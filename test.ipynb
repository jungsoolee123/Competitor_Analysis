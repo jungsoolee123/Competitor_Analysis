{
 "cells": [
  {
   "cell_type": "code",
   "execution_count": 1,
   "metadata": {},
   "outputs": [
    {
     "name": "stdout",
     "output_type": "stream",
     "text": [
      "test\n"
     ]
    }
   ],
   "source": [
    "print(\"test\")"
   ]
  },
  {
   "cell_type": "code",
   "execution_count": 92,
   "metadata": {},
   "outputs": [],
   "source": [
    "import pyodbc\n",
    "import pandas as pd\n",
    "import numpy as np\n",
    "import matplotlib.pyplot as plt\n",
    "import seaborn as sns\n",
    "from datetime import datetime\n",
    "from dateutil.relativedelta import relativedelta\n",
    "import plotly.express as px\n",
    "from plotly.subplots import make_subplots\n",
    "import plotly.graph_objects as go"
   ]
  },
  {
   "cell_type": "code",
   "execution_count": 93,
   "metadata": {},
   "outputs": [
    {
     "name": "stderr",
     "output_type": "stream",
     "text": [
      "C:\\Users\\jungsoo.lee\\AppData\\Local\\Temp\\ipykernel_9468\\1761368401.py:9: UserWarning:\n",
      "\n",
      "pandas only supports SQLAlchemy connectable (engine/connection) or database string URI or sqlite3 DBAPI2 connection. Other DBAPI2 objects are not tested. Please consider using SQLAlchemy.\n",
      "\n"
     ]
    }
   ],
   "source": [
    "def query_Azure(sql):\n",
    "    \n",
    "    server = 'azr-gbk-db01.database.windows.net' \n",
    "    database = 'ELASTIC_MASTER' \n",
    "    username = 'jungsoo.lee' \n",
    "    password = '!jsl0814GBK' \n",
    "    AZURE = 'DRIVER={ODBC Driver 17 for SQL Server};SERVER='+server+';DATABASE='+database+';UID='+username+';PWD='+ password\n",
    "    conn = pyodbc.connect(AZURE)\n",
    "    df = pd.read_sql(sql, conn)\n",
    "\n",
    "    return df\n",
    "\n",
    "sql = f\"\"\"\n",
    "--sql\n",
    "SELECT\n",
    " MBR.branch_name\n",
    ",MBP.address\n",
    ",MBP.city\n",
    ",MBP.state1\n",
    ",MBP.zipcode\n",
    ",MBR.region_reporting\n",
    "FROM [BI_MASTER].[MASTER_BRANCH] MBR\n",
    "LEFT JOIN [BI_MASTER].[Master_Business_Partners_Distinct_DC] MBP\n",
    "ON MBR.sap_vcode = MBP.sap_vcode\n",
    "WHERE MBR.active = 'Y'\n",
    "ORDER BY region_reporting\n",
    ";\n",
    "\"\"\"\n",
    "store_df = query_Azure(sql)"
   ]
  },
  {
   "cell_type": "code",
   "execution_count": 94,
   "metadata": {},
   "outputs": [
    {
     "data": {
      "text/html": [
       "<div>\n",
       "<style scoped>\n",
       "    .dataframe tbody tr th:only-of-type {\n",
       "        vertical-align: middle;\n",
       "    }\n",
       "\n",
       "    .dataframe tbody tr th {\n",
       "        vertical-align: top;\n",
       "    }\n",
       "\n",
       "    .dataframe thead th {\n",
       "        text-align: right;\n",
       "    }\n",
       "</style>\n",
       "<table border=\"1\" class=\"dataframe\">\n",
       "  <thead>\n",
       "    <tr style=\"text-align: right;\">\n",
       "      <th></th>\n",
       "      <th>branch_name</th>\n",
       "      <th>address</th>\n",
       "      <th>city</th>\n",
       "      <th>state1</th>\n",
       "      <th>zipcode</th>\n",
       "      <th>region_reporting</th>\n",
       "    </tr>\n",
       "  </thead>\n",
       "  <tbody>\n",
       "    <tr>\n",
       "      <th>0</th>\n",
       "      <td>Union</td>\n",
       "      <td>29-02 UNION ST</td>\n",
       "      <td>FLUSHING</td>\n",
       "      <td>NY</td>\n",
       "      <td>11354</td>\n",
       "      <td>R1</td>\n",
       "    </tr>\n",
       "    <tr>\n",
       "      <th>1</th>\n",
       "      <td>Northern 156</td>\n",
       "      <td>156-40 NORTHERN BLVD</td>\n",
       "      <td>FLUSHING</td>\n",
       "      <td>NY</td>\n",
       "      <td>11354</td>\n",
       "      <td>R1</td>\n",
       "    </tr>\n",
       "    <tr>\n",
       "      <th>2</th>\n",
       "      <td>Great Neck</td>\n",
       "      <td>495 GREAT NECK RD.</td>\n",
       "      <td>GREAT NECK</td>\n",
       "      <td>NY</td>\n",
       "      <td>11021</td>\n",
       "      <td>R1</td>\n",
       "    </tr>\n",
       "    <tr>\n",
       "      <th>3</th>\n",
       "      <td>Williston Park</td>\n",
       "      <td>400 HILLSIDE AVE.</td>\n",
       "      <td>WILLISTON PARK</td>\n",
       "      <td>NY</td>\n",
       "      <td>11596</td>\n",
       "      <td>R1</td>\n",
       "    </tr>\n",
       "    <tr>\n",
       "      <th>4</th>\n",
       "      <td>Hartsdale</td>\n",
       "      <td>371 N. CENTRAL AVE</td>\n",
       "      <td>HARTSDALE</td>\n",
       "      <td>NY</td>\n",
       "      <td>10530</td>\n",
       "      <td>R1</td>\n",
       "    </tr>\n",
       "    <tr>\n",
       "      <th>...</th>\n",
       "      <td>...</td>\n",
       "      <td>...</td>\n",
       "      <td>...</td>\n",
       "      <td>...</td>\n",
       "      <td>...</td>\n",
       "      <td>...</td>\n",
       "    </tr>\n",
       "    <tr>\n",
       "      <th>75</th>\n",
       "      <td>Irvine3</td>\n",
       "      <td>3931 IRVINE BLVD.</td>\n",
       "      <td>IRVINE</td>\n",
       "      <td>CA</td>\n",
       "      <td>92602</td>\n",
       "      <td>R8</td>\n",
       "    </tr>\n",
       "    <tr>\n",
       "      <th>76</th>\n",
       "      <td>Brookline</td>\n",
       "      <td>1026-1028 BEACON ST</td>\n",
       "      <td>BROOKLINE</td>\n",
       "      <td>MA</td>\n",
       "      <td>02446</td>\n",
       "      <td>R9</td>\n",
       "    </tr>\n",
       "    <tr>\n",
       "      <th>77</th>\n",
       "      <td>Quincy</td>\n",
       "      <td>101 FALLS BLVD</td>\n",
       "      <td>QUINCY</td>\n",
       "      <td>MA</td>\n",
       "      <td>02169</td>\n",
       "      <td>R9</td>\n",
       "    </tr>\n",
       "    <tr>\n",
       "      <th>78</th>\n",
       "      <td>Cambridge</td>\n",
       "      <td>581 MASS AVE</td>\n",
       "      <td>CAMBRIDGE</td>\n",
       "      <td>MA</td>\n",
       "      <td>02139</td>\n",
       "      <td>R9</td>\n",
       "    </tr>\n",
       "    <tr>\n",
       "      <th>79</th>\n",
       "      <td>Burlington</td>\n",
       "      <td>3 OLD CONCORD RD</td>\n",
       "      <td>BURLINGTON</td>\n",
       "      <td>MA</td>\n",
       "      <td>01803</td>\n",
       "      <td>R9</td>\n",
       "    </tr>\n",
       "  </tbody>\n",
       "</table>\n",
       "<p>80 rows × 6 columns</p>\n",
       "</div>"
      ],
      "text/plain": [
       "       branch_name               address            city state1 zipcode  \\\n",
       "0            Union        29-02 UNION ST        FLUSHING     NY   11354   \n",
       "1     Northern 156  156-40 NORTHERN BLVD        FLUSHING     NY   11354   \n",
       "2       Great Neck    495 GREAT NECK RD.      GREAT NECK     NY   11021   \n",
       "3   Williston Park     400 HILLSIDE AVE.  WILLISTON PARK     NY   11596   \n",
       "4        Hartsdale    371 N. CENTRAL AVE       HARTSDALE     NY   10530   \n",
       "..             ...                   ...             ...    ...     ...   \n",
       "75         Irvine3     3931 IRVINE BLVD.          IRVINE     CA   92602   \n",
       "76       Brookline   1026-1028 BEACON ST       BROOKLINE     MA   02446   \n",
       "77          Quincy        101 FALLS BLVD          QUINCY     MA   02169   \n",
       "78       Cambridge          581 MASS AVE       CAMBRIDGE     MA   02139   \n",
       "79      Burlington      3 OLD CONCORD RD      BURLINGTON     MA   01803   \n",
       "\n",
       "   region_reporting  \n",
       "0                R1  \n",
       "1                R1  \n",
       "2                R1  \n",
       "3                R1  \n",
       "4                R1  \n",
       "..              ...  \n",
       "75               R8  \n",
       "76               R9  \n",
       "77               R9  \n",
       "78               R9  \n",
       "79               R9  \n",
       "\n",
       "[80 rows x 6 columns]"
      ]
     },
     "execution_count": 94,
     "metadata": {},
     "output_type": "execute_result"
    }
   ],
   "source": [
    "store_df"
   ]
  },
  {
   "cell_type": "code",
   "execution_count": 95,
   "metadata": {},
   "outputs": [],
   "source": [
    "# # webscrape data \n",
    "# for store in store_df['placer_name']:\n",
    "#     # create list of data for each store\n",
    "#     df_lst = []\n",
    "#     for t in time_periods:\n",
    "#         # search store address and change time period\n",
    "\n",
    "#         # export data\n",
    "#         df = pd.read_csv()\n",
    "\n",
    "#         # save data\n",
    "#         df_lst.append(df)\n"
   ]
  },
  {
   "cell_type": "code",
   "execution_count": 96,
   "metadata": {},
   "outputs": [
    {
     "data": {
      "text/html": [
       "<div>\n",
       "<style scoped>\n",
       "    .dataframe tbody tr th:only-of-type {\n",
       "        vertical-align: middle;\n",
       "    }\n",
       "\n",
       "    .dataframe tbody tr th {\n",
       "        vertical-align: top;\n",
       "    }\n",
       "\n",
       "    .dataframe thead th {\n",
       "        text-align: right;\n",
       "    }\n",
       "</style>\n",
       "<table border=\"1\" class=\"dataframe\">\n",
       "  <thead>\n",
       "    <tr style=\"text-align: right;\">\n",
       "      <th></th>\n",
       "      <th>Rank</th>\n",
       "      <th>Name</th>\n",
       "      <th>Store ID</th>\n",
       "      <th>Total Visits</th>\n",
       "      <th>lat</th>\n",
       "      <th>lng</th>\n",
       "    </tr>\n",
       "  </thead>\n",
       "  <tbody>\n",
       "    <tr>\n",
       "      <th>0</th>\n",
       "      <td>1</td>\n",
       "      <td>H Mart / 3995 Alemany Blvd, San Francisco, CA,...</td>\n",
       "      <td>NaN</td>\n",
       "      <td>142109</td>\n",
       "      <td>37.710072</td>\n",
       "      <td>-122.467819</td>\n",
       "    </tr>\n",
       "    <tr>\n",
       "      <th>1</th>\n",
       "      <td>2</td>\n",
       "      <td>H Mart / 1101 W Huntington Dr, Arcadia, CA, Un...</td>\n",
       "      <td>NaN</td>\n",
       "      <td>121439</td>\n",
       "      <td>34.131640</td>\n",
       "      <td>-118.065765</td>\n",
       "    </tr>\n",
       "    <tr>\n",
       "      <th>2</th>\n",
       "      <td>3</td>\n",
       "      <td>H Mart / 2625 Old Denton Rd, Ste 200, Carrollt...</td>\n",
       "      <td>NaN</td>\n",
       "      <td>115034</td>\n",
       "      <td>32.984908</td>\n",
       "      <td>-96.912479</td>\n",
       "    </tr>\n",
       "    <tr>\n",
       "      <th>3</th>\n",
       "      <td>4</td>\n",
       "      <td>H Mart / 1761 NJ-27, Edison, NJ, United States</td>\n",
       "      <td>NaN</td>\n",
       "      <td>114270</td>\n",
       "      <td>40.513621</td>\n",
       "      <td>-74.407937</td>\n",
       "    </tr>\n",
       "    <tr>\n",
       "      <th>4</th>\n",
       "      <td>5</td>\n",
       "      <td>H Mart / 8911 Garden Grove Blvd, Garden Grove,...</td>\n",
       "      <td>NaN</td>\n",
       "      <td>96769</td>\n",
       "      <td>33.774851</td>\n",
       "      <td>-117.976491</td>\n",
       "    </tr>\n",
       "    <tr>\n",
       "      <th>...</th>\n",
       "      <td>...</td>\n",
       "      <td>...</td>\n",
       "      <td>...</td>\n",
       "      <td>...</td>\n",
       "      <td>...</td>\n",
       "      <td>...</td>\n",
       "    </tr>\n",
       "    <tr>\n",
       "      <th>70</th>\n",
       "      <td>71</td>\n",
       "      <td>H Mart / 400 Hillside Avenue, Williston Park, ...</td>\n",
       "      <td>NaN</td>\n",
       "      <td>23271</td>\n",
       "      <td>40.754371</td>\n",
       "      <td>-73.656311</td>\n",
       "    </tr>\n",
       "    <tr>\n",
       "      <th>71</th>\n",
       "      <td>72</td>\n",
       "      <td>H Mart / 156-40 Northern Blvd, Flushing, NY, U...</td>\n",
       "      <td>NaN</td>\n",
       "      <td>21917</td>\n",
       "      <td>40.762892</td>\n",
       "      <td>-73.808942</td>\n",
       "    </tr>\n",
       "    <tr>\n",
       "      <th>72</th>\n",
       "      <td>73</td>\n",
       "      <td>H Mart / 16 E Golf Rd Unit E, Schaumburg, IL, ...</td>\n",
       "      <td>NaN</td>\n",
       "      <td>20925</td>\n",
       "      <td>42.051011</td>\n",
       "      <td>-88.077724</td>\n",
       "    </tr>\n",
       "    <tr>\n",
       "      <th>73</th>\n",
       "      <td>74</td>\n",
       "      <td>H Mart / 141-40 Northern Blvd, Flushing, NY, U...</td>\n",
       "      <td>11.0</td>\n",
       "      <td>15649</td>\n",
       "      <td>40.764304</td>\n",
       "      <td>-73.824092</td>\n",
       "    </tr>\n",
       "    <tr>\n",
       "      <th>74</th>\n",
       "      <td>75</td>\n",
       "      <td>H Mart / 101 Falls Blvd, Quincy, MA, United St...</td>\n",
       "      <td>NaN</td>\n",
       "      <td>13612</td>\n",
       "      <td>42.238079</td>\n",
       "      <td>-70.983843</td>\n",
       "    </tr>\n",
       "  </tbody>\n",
       "</table>\n",
       "<p>75 rows × 6 columns</p>\n",
       "</div>"
      ],
      "text/plain": [
       "    Rank                                               Name  Store ID  \\\n",
       "0      1  H Mart / 3995 Alemany Blvd, San Francisco, CA,...       NaN   \n",
       "1      2  H Mart / 1101 W Huntington Dr, Arcadia, CA, Un...       NaN   \n",
       "2      3  H Mart / 2625 Old Denton Rd, Ste 200, Carrollt...       NaN   \n",
       "3      4     H Mart / 1761 NJ-27, Edison, NJ, United States       NaN   \n",
       "4      5  H Mart / 8911 Garden Grove Blvd, Garden Grove,...       NaN   \n",
       "..   ...                                                ...       ...   \n",
       "70    71  H Mart / 400 Hillside Avenue, Williston Park, ...       NaN   \n",
       "71    72  H Mart / 156-40 Northern Blvd, Flushing, NY, U...       NaN   \n",
       "72    73  H Mart / 16 E Golf Rd Unit E, Schaumburg, IL, ...       NaN   \n",
       "73    74  H Mart / 141-40 Northern Blvd, Flushing, NY, U...      11.0   \n",
       "74    75  H Mart / 101 Falls Blvd, Quincy, MA, United St...       NaN   \n",
       "\n",
       "    Total Visits        lat         lng  \n",
       "0         142109  37.710072 -122.467819  \n",
       "1         121439  34.131640 -118.065765  \n",
       "2         115034  32.984908  -96.912479  \n",
       "3         114270  40.513621  -74.407937  \n",
       "4          96769  33.774851 -117.976491  \n",
       "..           ...        ...         ...  \n",
       "70         23271  40.754371  -73.656311  \n",
       "71         21917  40.762892  -73.808942  \n",
       "72         20925  42.051011  -88.077724  \n",
       "73         15649  40.764304  -73.824092  \n",
       "74         13612  42.238079  -70.983843  \n",
       "\n",
       "[75 rows x 6 columns]"
      ]
     },
     "execution_count": 96,
     "metadata": {},
     "output_type": "execute_result"
    }
   ],
   "source": [
    "store_lon_lat = pd.read_csv(\"G:\\Shared drives\\Grand BK - Corporate Strategy\\jungsoo\\Placer_AI\\Datasets\\Ranked Venues - H Mart nationwide (Total).csv\",skiprows=1)\n",
    "store_lon_lat\n"
   ]
  },
  {
   "cell_type": "code",
   "execution_count": 97,
   "metadata": {},
   "outputs": [],
   "source": [
    "# define time periods to compare\n",
    "today = datetime.now()\n",
    "first = today.replace(day=1)\n",
    "\n",
    "# most recent month, prior month, last year same month\n",
    "last = (first + relativedelta(months=-2))\n",
    "prior = (first + relativedelta(months=-3))\n",
    "LY = (first + relativedelta(months=-2) + relativedelta(years=-1))\n",
    "\n",
    "# a list of folder names (time periods)\n",
    "tp_lst = []\n",
    "for x in [last, prior, LY]:\n",
    "    tp_lst.append(\"Favorite Places - H Mart, H Mart and 1 more - \"\n",
    "                   + x.strftime(\"%b\"+\" \" +\"%#d\"+\", \"+\"%Y\") + \" - \"\n",
    "                   + (x + relativedelta(day=31)).strftime(\"%b\"+\" \" +\"%#d\"+\", \"+\"%Y\")\n",
    "                   )\n",
    "\n",
    "# a list of file names (stores)\n",
    "store_lst = 'H Mart - ' + store_df['address'].replace('[^a-zA-Z\\s]','',regex=True).apply(lambda x: x.strip()) + \", \" + store_df['city'] + \", \" + store_df['state1']"
   ]
  },
  {
   "cell_type": "code",
   "execution_count": 98,
   "metadata": {},
   "outputs": [],
   "source": [
    "# load raw data of all store's favorite places in different time periods (total 79 * 3 df in one dictionary)\n",
    "def load_df(tp_lst, store_lst):\n",
    "    # create dataframe dictionary\n",
    "    df_dict = {}\n",
    "\n",
    "    root = \"G:\\Shared drives\\Grand BK - Corporate Strategy\\jungsoo\\Placer_AI\\Datasets\"\n",
    "    \n",
    "    # import csv and append to df_lst using file path\n",
    "    for i in range(len(tp_lst)):\n",
    "        store_df = []\n",
    "        for j in range(len(store_lst)):\n",
    "        # read csv files\n",
    "            dir = f'{root}\\{tp_lst[i]}\\{store_lst[j]}.csv'\n",
    "            df = pd.read_csv(dir)\n",
    "            if store_lst[j] not in df_dict.keys():\n",
    "                df_dict[store_lst[j]] = [df]\n",
    "            else:\n",
    "                df_dict[store_lst[j]].append(df)\n",
    "    \n",
    "    return df_dict"
   ]
  },
  {
   "cell_type": "code",
   "execution_count": 99,
   "metadata": {},
   "outputs": [
    {
     "data": {
      "text/html": [
       "<div>\n",
       "<style scoped>\n",
       "    .dataframe tbody tr th:only-of-type {\n",
       "        vertical-align: middle;\n",
       "    }\n",
       "\n",
       "    .dataframe tbody tr th {\n",
       "        vertical-align: top;\n",
       "    }\n",
       "\n",
       "    .dataframe thead th {\n",
       "        text-align: right;\n",
       "    }\n",
       "</style>\n",
       "<table border=\"1\" class=\"dataframe\">\n",
       "  <thead>\n",
       "    <tr style=\"text-align: right;\">\n",
       "      <th></th>\n",
       "      <th>Rank</th>\n",
       "      <th>Name</th>\n",
       "      <th>Store ID</th>\n",
       "      <th>Total Visits</th>\n",
       "      <th>lat</th>\n",
       "      <th>lng</th>\n",
       "    </tr>\n",
       "  </thead>\n",
       "  <tbody>\n",
       "    <tr>\n",
       "      <th>2</th>\n",
       "      <td>3</td>\n",
       "      <td>H Mart / 2625 Old Denton Rd, Ste 200, Carrollt...</td>\n",
       "      <td>NaN</td>\n",
       "      <td>115034</td>\n",
       "      <td>32.984908</td>\n",
       "      <td>-96.912479</td>\n",
       "    </tr>\n",
       "    <tr>\n",
       "      <th>16</th>\n",
       "      <td>17</td>\n",
       "      <td>H Mart / 260 Bergen Tpke, Little Ferry, NJ, Un...</td>\n",
       "      <td>38.0</td>\n",
       "      <td>77013</td>\n",
       "      <td>40.856226</td>\n",
       "      <td>-74.033270</td>\n",
       "    </tr>\n",
       "    <tr>\n",
       "      <th>24</th>\n",
       "      <td>25</td>\n",
       "      <td>H Mart / 3825 Alton Pkwy, Irvine, CA, United S...</td>\n",
       "      <td>NaN</td>\n",
       "      <td>73590</td>\n",
       "      <td>33.683712</td>\n",
       "      <td>-117.813829</td>\n",
       "    </tr>\n",
       "    <tr>\n",
       "      <th>43</th>\n",
       "      <td>44</td>\n",
       "      <td>H Mart / 3931 Irvine Blvd, CA, United States</td>\n",
       "      <td>NaN</td>\n",
       "      <td>54097</td>\n",
       "      <td>33.724200</td>\n",
       "      <td>-117.772319</td>\n",
       "    </tr>\n",
       "    <tr>\n",
       "      <th>47</th>\n",
       "      <td>48</td>\n",
       "      <td>H Mart / 2600 Alton Pkwy, Irvine, CA, United S...</td>\n",
       "      <td>NaN</td>\n",
       "      <td>49003</td>\n",
       "      <td>33.689248</td>\n",
       "      <td>-117.834456</td>\n",
       "    </tr>\n",
       "  </tbody>\n",
       "</table>\n",
       "</div>"
      ],
      "text/plain": [
       "    Rank                                               Name  Store ID  \\\n",
       "2      3  H Mart / 2625 Old Denton Rd, Ste 200, Carrollt...       NaN   \n",
       "16    17  H Mart / 260 Bergen Tpke, Little Ferry, NJ, Un...      38.0   \n",
       "24    25  H Mart / 3825 Alton Pkwy, Irvine, CA, United S...       NaN   \n",
       "43    44       H Mart / 3931 Irvine Blvd, CA, United States       NaN   \n",
       "47    48  H Mart / 2600 Alton Pkwy, Irvine, CA, United S...       NaN   \n",
       "\n",
       "    Total Visits        lat         lng  \n",
       "2         115034  32.984908  -96.912479  \n",
       "16         77013  40.856226  -74.033270  \n",
       "24         73590  33.683712 -117.813829  \n",
       "43         54097  33.724200 -117.772319  \n",
       "47         49003  33.689248 -117.834456  "
      ]
     },
     "execution_count": 99,
     "metadata": {},
     "output_type": "execute_result"
    }
   ],
   "source": [
    "store_lon_lat[store_lon_lat['Name'].str.contains('Irvine|Carrollton|Little Ferry')]"
   ]
  },
  {
   "cell_type": "code",
   "execution_count": 100,
   "metadata": {},
   "outputs": [],
   "source": [
    "temp_location_dict = {'H Mart - BERGEN TPKE, LITTLE FERRY, NJ':[40.856226,-74.033270],\n",
    "                      'H Mart - OLD DENTON RD, CARROLLTON, TX':[32.984908,-96.912479],\n",
    "                      'H Mart - ALTON PKWY, IRVINE, CA':[33.683712,-117.813829]}"
   ]
  },
  {
   "cell_type": "code",
   "execution_count": 101,
   "metadata": {},
   "outputs": [
    {
     "data": {
      "text/html": [
       "<div>\n",
       "<style scoped>\n",
       "    .dataframe tbody tr th:only-of-type {\n",
       "        vertical-align: middle;\n",
       "    }\n",
       "\n",
       "    .dataframe tbody tr th {\n",
       "        vertical-align: top;\n",
       "    }\n",
       "\n",
       "    .dataframe thead th {\n",
       "        text-align: right;\n",
       "    }\n",
       "</style>\n",
       "<table border=\"1\" class=\"dataframe\">\n",
       "  <thead>\n",
       "    <tr style=\"text-align: right;\">\n",
       "      <th></th>\n",
       "      <th>branch_name</th>\n",
       "      <th>address</th>\n",
       "      <th>city</th>\n",
       "      <th>state1</th>\n",
       "      <th>zipcode</th>\n",
       "      <th>region_reporting</th>\n",
       "    </tr>\n",
       "  </thead>\n",
       "  <tbody>\n",
       "    <tr>\n",
       "      <th>17</th>\n",
       "      <td>Little Ferry</td>\n",
       "      <td>260 BERGEN TPKE</td>\n",
       "      <td>LITTLE FERRY</td>\n",
       "      <td>NJ</td>\n",
       "      <td>07643</td>\n",
       "      <td>R2</td>\n",
       "    </tr>\n",
       "    <tr>\n",
       "      <th>54</th>\n",
       "      <td>Carrollton</td>\n",
       "      <td>2625 OLD DENTON RD #200</td>\n",
       "      <td>CARROLLTON</td>\n",
       "      <td>TX</td>\n",
       "      <td>75007</td>\n",
       "      <td>R7</td>\n",
       "    </tr>\n",
       "    <tr>\n",
       "      <th>57</th>\n",
       "      <td>Irvine</td>\n",
       "      <td>2600 ALTON PKWY</td>\n",
       "      <td>IRVINE</td>\n",
       "      <td>CA</td>\n",
       "      <td>92606</td>\n",
       "      <td>R8</td>\n",
       "    </tr>\n",
       "  </tbody>\n",
       "</table>\n",
       "</div>"
      ],
      "text/plain": [
       "     branch_name                  address          city state1 zipcode  \\\n",
       "17  Little Ferry          260 BERGEN TPKE  LITTLE FERRY     NJ   07643   \n",
       "54    Carrollton  2625 OLD DENTON RD #200    CARROLLTON     TX   75007   \n",
       "57        Irvine          2600 ALTON PKWY        IRVINE     CA   92606   \n",
       "\n",
       "   region_reporting  \n",
       "17               R2  \n",
       "54               R7  \n",
       "57               R8  "
      ]
     },
     "execution_count": 101,
     "metadata": {},
     "output_type": "execute_result"
    }
   ],
   "source": [
    "store_df[store_df['branch_name'].isin(['Irvine','Carrollton','Little Ferry'])]"
   ]
  },
  {
   "cell_type": "code",
   "execution_count": 102,
   "metadata": {},
   "outputs": [],
   "source": [
    "temp_store_lst = [store_lst[17],store_lst[54],store_lst[57]]\n",
    "temp_tp_lst = tp_lst"
   ]
  },
  {
   "cell_type": "code",
   "execution_count": 103,
   "metadata": {},
   "outputs": [
    {
     "data": {
      "text/html": [
       "<div>\n",
       "<style scoped>\n",
       "    .dataframe tbody tr th:only-of-type {\n",
       "        vertical-align: middle;\n",
       "    }\n",
       "\n",
       "    .dataframe tbody tr th {\n",
       "        vertical-align: top;\n",
       "    }\n",
       "\n",
       "    .dataframe thead th {\n",
       "        text-align: right;\n",
       "    }\n",
       "</style>\n",
       "<table border=\"1\" class=\"dataframe\">\n",
       "  <thead>\n",
       "    <tr style=\"text-align: right;\">\n",
       "      <th></th>\n",
       "      <th>ID</th>\n",
       "      <th>Name</th>\n",
       "      <th>Category Group</th>\n",
       "      <th>Category</th>\n",
       "      <th>Sub Category</th>\n",
       "      <th>Address</th>\n",
       "      <th>City</th>\n",
       "      <th>Location</th>\n",
       "      <th>Distance (Miles)</th>\n",
       "      <th># of Visitors</th>\n",
       "      <th>% of Visitors</th>\n",
       "    </tr>\n",
       "  </thead>\n",
       "  <tbody>\n",
       "    <tr>\n",
       "      <th>0</th>\n",
       "      <td>60826b74b6097e189bb63fd4</td>\n",
       "      <td>Teterboro Landing</td>\n",
       "      <td>Shopping Centers</td>\n",
       "      <td>Community Shopping Centers</td>\n",
       "      <td>Shopping Center</td>\n",
       "      <td>2 Teterboro Landing Dr</td>\n",
       "      <td>Teterboro</td>\n",
       "      <td>40.860944935779514, -74.06275328081634</td>\n",
       "      <td>1.6</td>\n",
       "      <td>23256</td>\n",
       "      <td>41.1%</td>\n",
       "    </tr>\n",
       "    <tr>\n",
       "      <th>1</th>\n",
       "      <td>a0a3d4863399d9e8b31a85f9</td>\n",
       "      <td>Westfield Garden State Plaza</td>\n",
       "      <td>Shopping Centers</td>\n",
       "      <td>Community Shopping Centers</td>\n",
       "      <td>Shopping Center</td>\n",
       "      <td>500 Garden State Plz</td>\n",
       "      <td>Paramus</td>\n",
       "      <td>40.91690181412384, -74.07392942306461</td>\n",
       "      <td>4.7</td>\n",
       "      <td>15713</td>\n",
       "      <td>27.7%</td>\n",
       "    </tr>\n",
       "    <tr>\n",
       "      <th>2</th>\n",
       "      <td>802c7afce4eb8f41a5ec0110</td>\n",
       "      <td>Costco Wholesale</td>\n",
       "      <td>Superstores</td>\n",
       "      <td>Superstores</td>\n",
       "      <td>Warehouse Store</td>\n",
       "      <td>2 Teterboro Landing Dr</td>\n",
       "      <td>Teterboro</td>\n",
       "      <td>40.86074968763845, -74.0644842614966</td>\n",
       "      <td>1.7</td>\n",
       "      <td>14059</td>\n",
       "      <td>24.8%</td>\n",
       "    </tr>\n",
       "    <tr>\n",
       "      <th>3</th>\n",
       "      <td>5a57100c750e6db7c67aa8b4</td>\n",
       "      <td>American Dream</td>\n",
       "      <td>Shopping Centers</td>\n",
       "      <td>Community Shopping Centers</td>\n",
       "      <td>Shopping Center</td>\n",
       "      <td>1 American Dream Wy</td>\n",
       "      <td>East Rutherford</td>\n",
       "      <td>40.80857249450705, -74.0690370346953</td>\n",
       "      <td>3.8</td>\n",
       "      <td>9362</td>\n",
       "      <td>16.5%</td>\n",
       "    </tr>\n",
       "    <tr>\n",
       "      <th>4</th>\n",
       "      <td>b8ba85519a3973ae2702c740</td>\n",
       "      <td>Hackensack Plaza</td>\n",
       "      <td>Shopping Centers</td>\n",
       "      <td>Community Shopping Centers</td>\n",
       "      <td>Shopping Center</td>\n",
       "      <td>450 Hackensack Avenue</td>\n",
       "      <td>Hackensack</td>\n",
       "      <td>40.90867278835986, -74.03022520250343</td>\n",
       "      <td>3.6</td>\n",
       "      <td>8953</td>\n",
       "      <td>15.8%</td>\n",
       "    </tr>\n",
       "    <tr>\n",
       "      <th>...</th>\n",
       "      <td>...</td>\n",
       "      <td>...</td>\n",
       "      <td>...</td>\n",
       "      <td>...</td>\n",
       "      <td>...</td>\n",
       "      <td>...</td>\n",
       "      <td>...</td>\n",
       "      <td>...</td>\n",
       "      <td>...</td>\n",
       "      <td>...</td>\n",
       "      <td>...</td>\n",
       "    </tr>\n",
       "    <tr>\n",
       "      <th>819</th>\n",
       "      <td>a8a4311f16a990f70b6c3225</td>\n",
       "      <td>Dollar Deal</td>\n",
       "      <td>Shops &amp; Services</td>\n",
       "      <td>Discount &amp; Dollar Stores</td>\n",
       "      <td>Discount Store</td>\n",
       "      <td>518 Kinderkamack Rd</td>\n",
       "      <td>River Edge</td>\n",
       "      <td>40.92565964456048, -74.03384706966008</td>\n",
       "      <td>4.8</td>\n",
       "      <td>167</td>\n",
       "      <td>&lt;0.5%</td>\n",
       "    </tr>\n",
       "    <tr>\n",
       "      <th>820</th>\n",
       "      <td>314656317ea173febbf6185b</td>\n",
       "      <td>Staples</td>\n",
       "      <td>Office Supplies</td>\n",
       "      <td>Office Supplies</td>\n",
       "      <td>Paper / Office Supplies Store</td>\n",
       "      <td>280 Route 17 Suite 197</td>\n",
       "      <td>East Rutherford</td>\n",
       "      <td>40.82513366104003, -74.09587129840585</td>\n",
       "      <td>3.9</td>\n",
       "      <td>165</td>\n",
       "      <td>&lt;0.5%</td>\n",
       "    </tr>\n",
       "    <tr>\n",
       "      <th>821</th>\n",
       "      <td>d8d94ee333ec4f3e14f47809</td>\n",
       "      <td>The Home Depot</td>\n",
       "      <td>Home Improvement</td>\n",
       "      <td>Home Improvement</td>\n",
       "      <td>Hardware Store</td>\n",
       "      <td>106 NJ-23</td>\n",
       "      <td>Riverdale</td>\n",
       "      <td>40.99079193513926, -74.32702125001312</td>\n",
       "      <td>17.9</td>\n",
       "      <td>159</td>\n",
       "      <td>&lt;0.5%</td>\n",
       "    </tr>\n",
       "    <tr>\n",
       "      <th>822</th>\n",
       "      <td>ed6ddcce8a5b207413459df0</td>\n",
       "      <td>Walmart</td>\n",
       "      <td>Superstores</td>\n",
       "      <td>Superstores</td>\n",
       "      <td>Big Box Store</td>\n",
       "      <td>300 Wootton St</td>\n",
       "      <td>Boonton</td>\n",
       "      <td>40.90717657450498, -74.40410472312242</td>\n",
       "      <td>19.7</td>\n",
       "      <td>159</td>\n",
       "      <td>&lt;0.5%</td>\n",
       "    </tr>\n",
       "    <tr>\n",
       "      <th>823</th>\n",
       "      <td>f829c63c011593dd4315ef99</td>\n",
       "      <td>Paramus Public Library</td>\n",
       "      <td>Education</td>\n",
       "      <td>Education</td>\n",
       "      <td>Library</td>\n",
       "      <td>116 E Century Rd</td>\n",
       "      <td>Paramus</td>\n",
       "      <td>40.926417830486024, -74.06060182629408</td>\n",
       "      <td>5.1</td>\n",
       "      <td>156</td>\n",
       "      <td>&lt;0.5%</td>\n",
       "    </tr>\n",
       "  </tbody>\n",
       "</table>\n",
       "<p>824 rows × 11 columns</p>\n",
       "</div>"
      ],
      "text/plain": [
       "                           ID                          Name    Category Group  \\\n",
       "0    60826b74b6097e189bb63fd4             Teterboro Landing  Shopping Centers   \n",
       "1    a0a3d4863399d9e8b31a85f9  Westfield Garden State Plaza  Shopping Centers   \n",
       "2    802c7afce4eb8f41a5ec0110              Costco Wholesale       Superstores   \n",
       "3    5a57100c750e6db7c67aa8b4                American Dream  Shopping Centers   \n",
       "4    b8ba85519a3973ae2702c740              Hackensack Plaza  Shopping Centers   \n",
       "..                        ...                           ...               ...   \n",
       "819  a8a4311f16a990f70b6c3225                   Dollar Deal  Shops & Services   \n",
       "820  314656317ea173febbf6185b                       Staples   Office Supplies   \n",
       "821  d8d94ee333ec4f3e14f47809                The Home Depot  Home Improvement   \n",
       "822  ed6ddcce8a5b207413459df0                       Walmart       Superstores   \n",
       "823  f829c63c011593dd4315ef99        Paramus Public Library         Education   \n",
       "\n",
       "                       Category                   Sub Category  \\\n",
       "0    Community Shopping Centers                Shopping Center   \n",
       "1    Community Shopping Centers                Shopping Center   \n",
       "2                   Superstores                Warehouse Store   \n",
       "3    Community Shopping Centers                Shopping Center   \n",
       "4    Community Shopping Centers                Shopping Center   \n",
       "..                          ...                            ...   \n",
       "819    Discount & Dollar Stores                 Discount Store   \n",
       "820             Office Supplies  Paper / Office Supplies Store   \n",
       "821            Home Improvement                 Hardware Store   \n",
       "822                 Superstores                  Big Box Store   \n",
       "823                   Education                        Library   \n",
       "\n",
       "                    Address             City  \\\n",
       "0    2 Teterboro Landing Dr        Teterboro   \n",
       "1      500 Garden State Plz          Paramus   \n",
       "2    2 Teterboro Landing Dr        Teterboro   \n",
       "3       1 American Dream Wy  East Rutherford   \n",
       "4     450 Hackensack Avenue       Hackensack   \n",
       "..                      ...              ...   \n",
       "819     518 Kinderkamack Rd       River Edge   \n",
       "820  280 Route 17 Suite 197  East Rutherford   \n",
       "821               106 NJ-23        Riverdale   \n",
       "822          300 Wootton St          Boonton   \n",
       "823        116 E Century Rd          Paramus   \n",
       "\n",
       "                                   Location Distance (Miles)  # of Visitors  \\\n",
       "0    40.860944935779514, -74.06275328081634              1.6          23256   \n",
       "1     40.91690181412384, -74.07392942306461              4.7          15713   \n",
       "2      40.86074968763845, -74.0644842614966              1.7          14059   \n",
       "3      40.80857249450705, -74.0690370346953              3.8           9362   \n",
       "4     40.90867278835986, -74.03022520250343              3.6           8953   \n",
       "..                                      ...              ...            ...   \n",
       "819   40.92565964456048, -74.03384706966008              4.8            167   \n",
       "820   40.82513366104003, -74.09587129840585              3.9            165   \n",
       "821   40.99079193513926, -74.32702125001312             17.9            159   \n",
       "822   40.90717657450498, -74.40410472312242             19.7            159   \n",
       "823  40.926417830486024, -74.06060182629408              5.1            156   \n",
       "\n",
       "    % of Visitors  \n",
       "0           41.1%  \n",
       "1           27.7%  \n",
       "2           24.8%  \n",
       "3           16.5%  \n",
       "4           15.8%  \n",
       "..            ...  \n",
       "819         <0.5%  \n",
       "820         <0.5%  \n",
       "821         <0.5%  \n",
       "822         <0.5%  \n",
       "823         <0.5%  \n",
       "\n",
       "[824 rows x 11 columns]"
      ]
     },
     "execution_count": 103,
     "metadata": {},
     "output_type": "execute_result"
    }
   ],
   "source": [
    "temp_dict = load_df(temp_tp_lst, temp_store_lst)\n",
    "temp_dict['H Mart - BERGEN TPKE, LITTLE FERRY, NJ'][0]"
   ]
  },
  {
   "cell_type": "code",
   "execution_count": 104,
   "metadata": {},
   "outputs": [
    {
     "data": {
      "text/html": [
       "<div>\n",
       "<style scoped>\n",
       "    .dataframe tbody tr th:only-of-type {\n",
       "        vertical-align: middle;\n",
       "    }\n",
       "\n",
       "    .dataframe tbody tr th {\n",
       "        vertical-align: top;\n",
       "    }\n",
       "\n",
       "    .dataframe thead th {\n",
       "        text-align: right;\n",
       "    }\n",
       "</style>\n",
       "<table border=\"1\" class=\"dataframe\">\n",
       "  <thead>\n",
       "    <tr style=\"text-align: right;\">\n",
       "      <th></th>\n",
       "      <th>Week Start Date</th>\n",
       "      <th>H Mart/ 321 Broad Ave</th>\n",
       "      <th>HanNam Mart/ 1475 Bergen Blvd</th>\n",
       "      <th>H Mart/ 60 State Route 17 North</th>\n",
       "      <th>99 Ranch Market/ 450 Hackensack Ave</th>\n",
       "      <th>ShopRite/ 500 S River St</th>\n",
       "    </tr>\n",
       "  </thead>\n",
       "  <tbody>\n",
       "    <tr>\n",
       "      <th>0</th>\n",
       "      <td>7/31/20237/31/20237/31/20237/31/20237/31/20237...</td>\n",
       "      <td>6.4</td>\n",
       "      <td>4.2</td>\n",
       "      <td>3.8</td>\n",
       "      <td>3.0</td>\n",
       "      <td>3.1</td>\n",
       "    </tr>\n",
       "    <tr>\n",
       "      <th>1</th>\n",
       "      <td>8/7/20238/7/20238/7/20238/7/20238/7/20238/7/20...</td>\n",
       "      <td>5.2</td>\n",
       "      <td>2.9</td>\n",
       "      <td>2.2</td>\n",
       "      <td>3.2</td>\n",
       "      <td>6.0</td>\n",
       "    </tr>\n",
       "    <tr>\n",
       "      <th>2</th>\n",
       "      <td>8/14/20238/14/20238/14/20238/14/20238/14/20238...</td>\n",
       "      <td>5.1</td>\n",
       "      <td>4.1</td>\n",
       "      <td>2.0</td>\n",
       "      <td>2.1</td>\n",
       "      <td>3.2</td>\n",
       "    </tr>\n",
       "    <tr>\n",
       "      <th>3</th>\n",
       "      <td>8/21/20238/21/20238/21/20238/21/20238/21/20238...</td>\n",
       "      <td>4.8</td>\n",
       "      <td>3.4</td>\n",
       "      <td>2.9</td>\n",
       "      <td>3.2</td>\n",
       "      <td>4.4</td>\n",
       "    </tr>\n",
       "    <tr>\n",
       "      <th>4</th>\n",
       "      <td>8/28/20238/28/20238/28/20238/28/20238/28/20238...</td>\n",
       "      <td>4.1</td>\n",
       "      <td>3.9</td>\n",
       "      <td>1.7</td>\n",
       "      <td>2.5</td>\n",
       "      <td>4.3</td>\n",
       "    </tr>\n",
       "  </tbody>\n",
       "</table>\n",
       "</div>"
      ],
      "text/plain": [
       "                                     Week Start Date  H Mart/ 321 Broad Ave  \\\n",
       "0  7/31/20237/31/20237/31/20237/31/20237/31/20237...                    6.4   \n",
       "1  8/7/20238/7/20238/7/20238/7/20238/7/20238/7/20...                    5.2   \n",
       "2  8/14/20238/14/20238/14/20238/14/20238/14/20238...                    5.1   \n",
       "3  8/21/20238/21/20238/21/20238/21/20238/21/20238...                    4.8   \n",
       "4  8/28/20238/28/20238/28/20238/28/20238/28/20238...                    4.1   \n",
       "\n",
       "   HanNam Mart/ 1475 Bergen Blvd  H Mart/ 60 State Route 17 North  \\\n",
       "0                            4.2                              3.8   \n",
       "1                            2.9                              2.2   \n",
       "2                            4.1                              2.0   \n",
       "3                            3.4                              2.9   \n",
       "4                            3.9                              1.7   \n",
       "\n",
       "   99 Ranch Market/ 450 Hackensack Ave  ShopRite/ 500 S River St  \n",
       "0                                  3.0                       3.1  \n",
       "1                                  3.2                       6.0  \n",
       "2                                  2.1                       3.2  \n",
       "3                                  3.2                       4.4  \n",
       "4                                  2.5                       4.3  "
      ]
     },
     "execution_count": 104,
     "metadata": {},
     "output_type": "execute_result"
    }
   ],
   "source": [
    "ltf = pd.read_csv('G:\\Shared drives\\Grand BK - Corporate Strategy\\jungsoo\\Placer_AI\\Datasets\\H mart -  Bergen Tpke, Favorite Places Weekly Visit Share %.csv')#.set_index('Week Start Date')\n",
    "ltf = ltf.iloc[:5,:][['Week Start Date','H Mart/ 321 Broad Ave','HanNam Mart/ 1475 Bergen Blvd', 'H Mart/ 60 State Route 17 North','99 Ranch Market/ 450 Hackensack Ave', 'ShopRite/ 500 S River St']].apply(lambda x: x*100)\n",
    "ltf"
   ]
  },
  {
   "cell_type": "code",
   "execution_count": 105,
   "metadata": {},
   "outputs": [
    {
     "data": {
      "text/html": [
       "<div>\n",
       "<style scoped>\n",
       "    .dataframe tbody tr th:only-of-type {\n",
       "        vertical-align: middle;\n",
       "    }\n",
       "\n",
       "    .dataframe tbody tr th {\n",
       "        vertical-align: top;\n",
       "    }\n",
       "\n",
       "    .dataframe thead th {\n",
       "        text-align: right;\n",
       "    }\n",
       "</style>\n",
       "<table border=\"1\" class=\"dataframe\">\n",
       "  <thead>\n",
       "    <tr style=\"text-align: right;\">\n",
       "      <th></th>\n",
       "      <th>Week Start Date</th>\n",
       "      <th>99 Ranch Market/ 2352 Old Denton Rd</th>\n",
       "      <th>H Mart/ 3320 K Ave</th>\n",
       "      <th>Hiep Thai Food Store/ 2430 E Pioneer Pkwy</th>\n",
       "      <th>H-E-B/ 6001 Preston Rd Suite 100</th>\n",
       "      <th>Mitsuwa Marketplace/ 100 Legacy Dr</th>\n",
       "    </tr>\n",
       "  </thead>\n",
       "  <tbody>\n",
       "    <tr>\n",
       "      <th>0</th>\n",
       "      <td>7/31/20237/31/20237/31/20237/31/20237/31/20237...</td>\n",
       "      <td>8.6</td>\n",
       "      <td>2.3</td>\n",
       "      <td>1.5</td>\n",
       "      <td>0.9</td>\n",
       "      <td>1.4</td>\n",
       "    </tr>\n",
       "    <tr>\n",
       "      <th>1</th>\n",
       "      <td>8/7/20238/7/20238/7/20238/7/20238/7/20238/7/20...</td>\n",
       "      <td>7.1</td>\n",
       "      <td>1.8</td>\n",
       "      <td>0.7</td>\n",
       "      <td>2.1</td>\n",
       "      <td>7.0</td>\n",
       "    </tr>\n",
       "    <tr>\n",
       "      <th>2</th>\n",
       "      <td>8/14/20238/14/20238/14/20238/14/20238/14/20238...</td>\n",
       "      <td>7.2</td>\n",
       "      <td>1.6</td>\n",
       "      <td>0.8</td>\n",
       "      <td>1.8</td>\n",
       "      <td>1.3</td>\n",
       "    </tr>\n",
       "    <tr>\n",
       "      <th>3</th>\n",
       "      <td>8/21/20238/21/20238/21/20238/21/20238/21/20238...</td>\n",
       "      <td>7.7</td>\n",
       "      <td>1.6</td>\n",
       "      <td>1.3</td>\n",
       "      <td>0.7</td>\n",
       "      <td>1.5</td>\n",
       "    </tr>\n",
       "    <tr>\n",
       "      <th>4</th>\n",
       "      <td>8/28/20238/28/20238/28/20238/28/20238/28/20238...</td>\n",
       "      <td>8.7</td>\n",
       "      <td>1.9</td>\n",
       "      <td>1.2</td>\n",
       "      <td>1.0</td>\n",
       "      <td>1.1</td>\n",
       "    </tr>\n",
       "  </tbody>\n",
       "</table>\n",
       "</div>"
      ],
      "text/plain": [
       "                                     Week Start Date  \\\n",
       "0  7/31/20237/31/20237/31/20237/31/20237/31/20237...   \n",
       "1  8/7/20238/7/20238/7/20238/7/20238/7/20238/7/20...   \n",
       "2  8/14/20238/14/20238/14/20238/14/20238/14/20238...   \n",
       "3  8/21/20238/21/20238/21/20238/21/20238/21/20238...   \n",
       "4  8/28/20238/28/20238/28/20238/28/20238/28/20238...   \n",
       "\n",
       "   99 Ranch Market/ 2352 Old Denton Rd  H Mart/ 3320 K Ave  \\\n",
       "0                                  8.6                 2.3   \n",
       "1                                  7.1                 1.8   \n",
       "2                                  7.2                 1.6   \n",
       "3                                  7.7                 1.6   \n",
       "4                                  8.7                 1.9   \n",
       "\n",
       "   Hiep Thai Food Store/ 2430 E Pioneer Pkwy  \\\n",
       "0                                        1.5   \n",
       "1                                        0.7   \n",
       "2                                        0.8   \n",
       "3                                        1.3   \n",
       "4                                        1.2   \n",
       "\n",
       "   H-E-B/ 6001 Preston Rd Suite 100  Mitsuwa Marketplace/ 100 Legacy Dr  \n",
       "0                               0.9                                 1.4  \n",
       "1                               2.1                                 7.0  \n",
       "2                               1.8                                 1.3  \n",
       "3                               0.7                                 1.5  \n",
       "4                               1.0                                 1.1  "
      ]
     },
     "execution_count": 105,
     "metadata": {},
     "output_type": "execute_result"
    }
   ],
   "source": [
    "car = pd.read_csv('G:\\Shared drives\\Grand BK - Corporate Strategy\\jungsoo\\Placer_AI\\Datasets\\H mart -  Old Denton Rd, Favorite Places Weekly Visit Share %.csv')#.set_index('Week Start Date')\n",
    "car = car.iloc[:5,:][['Week Start Date','99 Ranch Market/ 2352 Old Denton Rd', 'H Mart/ 3320 K Ave','Hiep Thai Food Store/ 2430 E Pioneer Pkwy','H-E-B/ 6001 Preston Rd Suite 100','Mitsuwa Marketplace/ 100 Legacy Dr']].apply(lambda x: x*100)\n",
    "car"
   ]
  },
  {
   "cell_type": "code",
   "execution_count": 106,
   "metadata": {},
   "outputs": [
    {
     "data": {
      "text/html": [
       "<div>\n",
       "<style scoped>\n",
       "    .dataframe tbody tr th:only-of-type {\n",
       "        vertical-align: middle;\n",
       "    }\n",
       "\n",
       "    .dataframe tbody tr th {\n",
       "        vertical-align: top;\n",
       "    }\n",
       "\n",
       "    .dataframe thead th {\n",
       "        text-align: right;\n",
       "    }\n",
       "</style>\n",
       "<table border=\"1\" class=\"dataframe\">\n",
       "  <thead>\n",
       "    <tr style=\"text-align: right;\">\n",
       "      <th></th>\n",
       "      <th>Week Start Date</th>\n",
       "      <th>H Mart/ 2600 Alton Pkwy</th>\n",
       "      <th>Mitsuwa Marketplace/ 665 Paularino Ave</th>\n",
       "      <th>Zion Market/ 4800 Irvine Blvd</th>\n",
       "      <th>Mitsuwa Marketplace/ 14230 Culver Dr</th>\n",
       "      <th>99 Ranch Market/ 15333 Culver Dr Suite #800</th>\n",
       "    </tr>\n",
       "  </thead>\n",
       "  <tbody>\n",
       "    <tr>\n",
       "      <th>0</th>\n",
       "      <td>07/31/2307/31/2307/31/2307/31/2307/31/2307/31/...</td>\n",
       "      <td>1.9</td>\n",
       "      <td>2.4</td>\n",
       "      <td>2.9</td>\n",
       "      <td>2.4</td>\n",
       "      <td>3.4</td>\n",
       "    </tr>\n",
       "    <tr>\n",
       "      <th>1</th>\n",
       "      <td>08/07/2308/07/2308/07/2308/07/2308/07/2308/07/...</td>\n",
       "      <td>3.6</td>\n",
       "      <td>3.2</td>\n",
       "      <td>2.8</td>\n",
       "      <td>2.5</td>\n",
       "      <td>4.7</td>\n",
       "    </tr>\n",
       "    <tr>\n",
       "      <th>2</th>\n",
       "      <td>08/14/2308/14/2308/14/2308/14/2308/14/2308/14/...</td>\n",
       "      <td>3.3</td>\n",
       "      <td>3.0</td>\n",
       "      <td>2.3</td>\n",
       "      <td>2.1</td>\n",
       "      <td>2.8</td>\n",
       "    </tr>\n",
       "    <tr>\n",
       "      <th>3</th>\n",
       "      <td>08/21/2308/21/2308/21/2308/21/2308/21/2308/21/...</td>\n",
       "      <td>3.7</td>\n",
       "      <td>2.8</td>\n",
       "      <td>3.0</td>\n",
       "      <td>3.2</td>\n",
       "      <td>3.3</td>\n",
       "    </tr>\n",
       "    <tr>\n",
       "      <th>4</th>\n",
       "      <td>08/28/2308/28/2308/28/2308/28/2308/28/2308/28/...</td>\n",
       "      <td>3.2</td>\n",
       "      <td>2.3</td>\n",
       "      <td>2.5</td>\n",
       "      <td>2.4</td>\n",
       "      <td>3.4</td>\n",
       "    </tr>\n",
       "  </tbody>\n",
       "</table>\n",
       "</div>"
      ],
      "text/plain": [
       "                                     Week Start Date  H Mart/ 2600 Alton Pkwy  \\\n",
       "0  07/31/2307/31/2307/31/2307/31/2307/31/2307/31/...                      1.9   \n",
       "1  08/07/2308/07/2308/07/2308/07/2308/07/2308/07/...                      3.6   \n",
       "2  08/14/2308/14/2308/14/2308/14/2308/14/2308/14/...                      3.3   \n",
       "3  08/21/2308/21/2308/21/2308/21/2308/21/2308/21/...                      3.7   \n",
       "4  08/28/2308/28/2308/28/2308/28/2308/28/2308/28/...                      3.2   \n",
       "\n",
       "   Mitsuwa Marketplace/ 665 Paularino Ave  Zion Market/ 4800 Irvine Blvd  \\\n",
       "0                                     2.4                            2.9   \n",
       "1                                     3.2                            2.8   \n",
       "2                                     3.0                            2.3   \n",
       "3                                     2.8                            3.0   \n",
       "4                                     2.3                            2.5   \n",
       "\n",
       "   Mitsuwa Marketplace/ 14230 Culver Dr  \\\n",
       "0                                   2.4   \n",
       "1                                   2.5   \n",
       "2                                   2.1   \n",
       "3                                   3.2   \n",
       "4                                   2.4   \n",
       "\n",
       "   99 Ranch Market/ 15333 Culver Dr Suite #800  \n",
       "0                                          3.4  \n",
       "1                                          4.7  \n",
       "2                                          2.8  \n",
       "3                                          3.3  \n",
       "4                                          3.4  "
      ]
     },
     "execution_count": 106,
     "metadata": {},
     "output_type": "execute_result"
    }
   ],
   "source": [
    "irv = pd.read_csv('G:\\Shared drives\\Grand BK - Corporate Strategy\\jungsoo\\Placer_AI\\Datasets\\H mart -  Alton Pkwy, Favorite Places Weekly Visit Share %.csv')#.set_index('Week Start Date')\n",
    "irv = irv.iloc[:5,:][['Week Start Date', 'H Mart/ 2600 Alton Pkwy','Mitsuwa Marketplace/ 665 Paularino Ave','Zion Market/ 4800 Irvine Blvd', 'Mitsuwa Marketplace/ 14230 Culver Dr','99 Ranch Market/ 15333 Culver Dr Suite #800']].apply(lambda x: x*100)\n",
    "irv"
   ]
  },
  {
   "cell_type": "code",
   "execution_count": 107,
   "metadata": {},
   "outputs": [],
   "source": [
    "temp_weekly_dict = {'H Mart - BERGEN TPKE, LITTLE FERRY, NJ':ltf,\n",
    "                      'H Mart - OLD DENTON RD, CARROLLTON, TX': car,\n",
    "                      'H Mart - ALTON PKWY, IRVINE, CA':irv}"
   ]
  },
  {
   "cell_type": "code",
   "execution_count": 108,
   "metadata": {},
   "outputs": [],
   "source": [
    "# clean each dataframe in dictionary and return new dictionary with cleaned dataframes\n",
    "def clean_dict(tp_lst, store_lst):\n",
    "    # load all raw data in one dictionary\n",
    "    temp_dict = load_df(tp_lst, store_lst)\n",
    "    # create new dictionary to return\n",
    "    cleaned_dict = {}\n",
    "    for store in store_lst:\n",
    "        df_lst = temp_dict[store]\n",
    "        cleaned_df_lst = []\n",
    "        for df in df_lst:\n",
    "            # filter category\n",
    "            new_df = df[df['Category']=='Groceries']\n",
    "            # remove other hmart stores from the df\n",
    "            # new_df = new_df[new_df['Name'].str.contains('H Mart')==False]\n",
    "            # create Name/ Address column\n",
    "            new_df['Name/ Address'] = new_df['Name']+' / '+new_df['Address'] +\", \"+new_df['City']\n",
    "            # convert % to float from str\n",
    "            new_df['% of Visitors'] = new_df['% of Visitors'].apply(lambda x : x.replace('%','')).astype(float)\n",
    "            # get latitude and longitude\n",
    "            new_df['Lat'] = df['Location'].str.split(',').str[0].astype(float)\n",
    "            new_df['Lon'] = df['Location'].str.split(',').str[1].astype(float)\n",
    "            # drop irrelevant columns and sort by %\n",
    "            new_df = new_df[['Name/ Address','Lat','Lon','Distance (Miles)','# of Visitors','% of Visitors']]\n",
    "\n",
    "            cleaned_df_lst.append(new_df)\n",
    "\n",
    "        cleaned_dict[store] = cleaned_df_lst\n",
    "\n",
    "    return cleaned_dict\n",
    "\n",
    "# combine favorite places in three different time periods in one dataframe and return new dictionary with combined dataframes\n",
    "def combine_dict(tp_lst, store_lst):\n",
    "    # load the dictionary with cleaned dataframes\n",
    "    cleaned_dict = clean_dict(tp_lst, store_lst)\n",
    "    # create a new dictionary to return\n",
    "    combined_dict = {}\n",
    "    for store in store_lst:\n",
    "        df_lst = cleaned_dict[store]\n",
    "        # set base table as current time period favorite places\n",
    "        current_top10 = df_lst[0].nlargest(10,'% of Visitors')\n",
    "        # left join base table with prior and ly\n",
    "        new_df = pd.merge(current_top10,df_lst[1],on='Name/ Address',how='left',suffixes=('',' prior'))\n",
    "        new_df = pd.merge(new_df,df_lst[2],on='Name/ Address',how='left',suffixes=('',' LY'))\n",
    "        # fill 0 if prior & ly data not available\n",
    "        new_df['% of Visitors prior'] = new_df['% of Visitors prior'].fillna(0)\n",
    "        new_df['% of Visitors LY'] = new_df['% of Visitors LY'].fillna(0)\n",
    "        # create variance col's\n",
    "        new_df['Variance prior'] = new_df['% of Visitors'] - new_df['% of Visitors prior']\n",
    "        new_df['Variance LY'] = new_df['% of Visitors'] - new_df['% of Visitors LY']\n",
    "        # create rank col\n",
    "        new_df['Rank'] = new_df['% of Visitors'].rank(method='min',ascending=False).astype('int8')\n",
    "        # drop irrelevant columns\n",
    "        new_df = new_df[['Rank','Name/ Address','Lat','Lon','Distance (Miles)','# of Visitors','% of Visitors','% of Visitors prior','Variance prior','% of Visitors LY','Variance LY']]\n",
    "        \n",
    "        combined_dict[store] = new_df\n",
    "\n",
    "    return combined_dict\n",
    "\n"
   ]
  },
  {
   "cell_type": "code",
   "execution_count": 121,
   "metadata": {},
   "outputs": [],
   "source": [
    "def map_table(tp_lst, store_lst):\n",
    "    combined_dict = combine_dict(tp_lst, store_lst)\n",
    "    token = 'pk.eyJ1IjoianVuZ3Nvb2xlZTEyMyIsImEiOiJjbG5pemliaWcwdDc4MmxtanlsazFjNnphIn0.DuoiXA_AYMRMk1ZQjzS6ZA'\n",
    "    for store in store_lst:\n",
    "        fig = make_subplots(\n",
    "            rows=2,\n",
    "            cols=2,\n",
    "            specs = [[{\"type\": \"mapbox\", \"rowspan\":2},{\"type\": \"table\"}]\n",
    "                     ,[None, {\"type\":\"scatter\"}]],\n",
    "            subplot_titles=(\"\",\"Competitor List\",\"Weekly Trend\"),\n",
    "            vertical_spacing=0.02,\n",
    "            horizontal_spacing=0.08\n",
    "            )\n",
    "        # map visualization\n",
    "        df = combined_dict[store]\n",
    "        # add h mart marker\n",
    "        fig.add_trace(go.Scattermapbox(\n",
    "            lat=[temp_location_dict[store][0]],\n",
    "            lon=[temp_location_dict[store][1]],\n",
    "            mode='markers',\n",
    "            marker = go.scattermapbox.Marker(\n",
    "                    size=20,color='blue',\n",
    "                    opacity=0.7),\n",
    "            hovertext=[store],\n",
    "            hoverinfo='text',\n",
    "            showlegend=False\n",
    "            ),row=1,col=1)\n",
    "\n",
    "        # add competitors markers\n",
    "        color_scale = [(0, 'orange'), (1,'red')]\n",
    "        fig.add_trace(go.Scattermapbox(\n",
    "                lat=df['Lat'],\n",
    "                lon=df['Lon'],\n",
    "                mode='markers+text',\n",
    "                marker=go.scattermapbox.Marker(\n",
    "                    size=df[\"% of Visitors\"]*5,\n",
    "                    color=df[\"% of Visitors\"],\n",
    "                    # autocolorscale=True,\n",
    "                    colorscale=color_scale,\n",
    "                    colorbar=dict(title='% of Visitors', x=0.02),\n",
    "                    opacity=0.7\n",
    "                ),\n",
    "                text=list(df['Rank']),\n",
    "                name='',\n",
    "                hovertext=list(df['Name/ Address']),\n",
    "                hoverinfo='text',\n",
    "                showlegend=False\n",
    "            ),row=1,col=1)\n",
    "        # fig.add_trace(px.scatter_mapbox(df, \n",
    "        #                         lat=\"Lat\", \n",
    "        #                         lon=\"Lon\", \n",
    "        #                         #hover_name=\"Name/ Address\", \n",
    "        #                         #hover_data=[\"Name/ Address\",\"Distance (Miles)\", \"% of Visitors\"],\n",
    "        #                         color=\"% of Visitors\",\n",
    "        #                         color_continuous_scale=color_scale,\n",
    "        #                         size=\"% of Visitors\",\n",
    "        #                         zoom=10, \n",
    "        #                         height=500,\n",
    "        #                         width=800,\n",
    "        #                         ),row=1,col=1)\n",
    "        # fig.update_layout(mapbox_style=\"carto-positron\", margin={\"r\":10,\"t\":40,\"l\":10,\"b\":10},title = f'{store}')\n",
    "        # fig.show()\n",
    "\n",
    "        # table visualization\n",
    "        dfx = df[['Rank','Name/ Address','Distance (Miles)', '% of Visitors','Variance prior','Variance LY']].round(2)\n",
    "        fig.add_trace(go.Table( columnwidth=[10,60,10,10,10,10],\n",
    "                                header=dict(values=['Rank','Name/ Address','Distance (Miles)', '% of Visitors','Last Month','Last Year'],\n",
    "                                            font_size=16),\n",
    "                                cells=dict(values=[dfx[k].tolist() for k in dfx.columns],\n",
    "                                           font_color=['darkslategray','darkslategray','darkslategray','darkslategray',[\"red\" if x <= 0 else \"green\" if x >= 0 else 'darkslategray' for x in list(dfx['Variance prior'])],[\"red\" if x <= 0 else \"green\" if x >= 0 else 'darkslategray' for x in list(dfx['Variance LY'])]],\n",
    "                                           height=30)\n",
    "            ),row=1,col=2)\n",
    "\n",
    "        # stacked area chart       \n",
    "        dfw = temp_weekly_dict[store]\n",
    "        for competitor in dfw.columns[1:]:\n",
    "            fig.add_trace(go.Scatter(\n",
    "                name=competitor,\n",
    "                x=['W1','W2','W3','W4','W5'],\n",
    "                y=dfw[competitor],\n",
    "                stackgroup='one',\n",
    "                hovertext=list(dfw[competitor]),\n",
    "                hoverinfo='text',\n",
    "            ),row=2,col=2)\n",
    "\n",
    "        # update layout   \n",
    "        fig.update_annotations(font_size=18,yshift=20)\n",
    "        fig.update_yaxes(title_text=\"% of Visitors\", row=2, col=2)\n",
    "        fig.update_xaxes(title_text=\"Week #\", row=2, col=2)\n",
    "        fig.update_layout(\n",
    "                mapbox=dict(accesstoken=token,zoom=12,style='light',center={'lon':temp_location_dict[store][1],'lat':temp_location_dict[store][0]}),\n",
    "                margin={\"r\":20,\"t\":100,\"l\":20,\"b\":10},\n",
    "                title = f'{store}',\n",
    "                title_font_size=24,\n",
    "                width=2400,height=1000,\n",
    "                legend=dict(y=0.4)\n",
    "                )\n",
    "        fig.write_html(f\"G:\\Shared drives\\Grand BK - Corporate Strategy\\jungsoo\\Placer_AI\\Etc\\{store}.html\") \n",
    "        fig.show()\n"
   ]
  },
  {
   "cell_type": "code",
   "execution_count": 122,
   "metadata": {},
   "outputs": [
    {
     "name": "stderr",
     "output_type": "stream",
     "text": [
      "C:\\Users\\jungsoo.lee\\AppData\\Local\\Temp\\ipykernel_9468\\1819421996.py:16: SettingWithCopyWarning:\n",
      "\n",
      "\n",
      "A value is trying to be set on a copy of a slice from a DataFrame.\n",
      "Try using .loc[row_indexer,col_indexer] = value instead\n",
      "\n",
      "See the caveats in the documentation: https://pandas.pydata.org/pandas-docs/stable/user_guide/indexing.html#returning-a-view-versus-a-copy\n",
      "\n",
      "C:\\Users\\jungsoo.lee\\AppData\\Local\\Temp\\ipykernel_9468\\1819421996.py:18: SettingWithCopyWarning:\n",
      "\n",
      "\n",
      "A value is trying to be set on a copy of a slice from a DataFrame.\n",
      "Try using .loc[row_indexer,col_indexer] = value instead\n",
      "\n",
      "See the caveats in the documentation: https://pandas.pydata.org/pandas-docs/stable/user_guide/indexing.html#returning-a-view-versus-a-copy\n",
      "\n",
      "C:\\Users\\jungsoo.lee\\AppData\\Local\\Temp\\ipykernel_9468\\1819421996.py:20: SettingWithCopyWarning:\n",
      "\n",
      "\n",
      "A value is trying to be set on a copy of a slice from a DataFrame.\n",
      "Try using .loc[row_indexer,col_indexer] = value instead\n",
      "\n",
      "See the caveats in the documentation: https://pandas.pydata.org/pandas-docs/stable/user_guide/indexing.html#returning-a-view-versus-a-copy\n",
      "\n",
      "C:\\Users\\jungsoo.lee\\AppData\\Local\\Temp\\ipykernel_9468\\1819421996.py:21: SettingWithCopyWarning:\n",
      "\n",
      "\n",
      "A value is trying to be set on a copy of a slice from a DataFrame.\n",
      "Try using .loc[row_indexer,col_indexer] = value instead\n",
      "\n",
      "See the caveats in the documentation: https://pandas.pydata.org/pandas-docs/stable/user_guide/indexing.html#returning-a-view-versus-a-copy\n",
      "\n",
      "C:\\Users\\jungsoo.lee\\AppData\\Local\\Temp\\ipykernel_9468\\1819421996.py:16: SettingWithCopyWarning:\n",
      "\n",
      "\n",
      "A value is trying to be set on a copy of a slice from a DataFrame.\n",
      "Try using .loc[row_indexer,col_indexer] = value instead\n",
      "\n",
      "See the caveats in the documentation: https://pandas.pydata.org/pandas-docs/stable/user_guide/indexing.html#returning-a-view-versus-a-copy\n",
      "\n",
      "C:\\Users\\jungsoo.lee\\AppData\\Local\\Temp\\ipykernel_9468\\1819421996.py:18: SettingWithCopyWarning:\n",
      "\n",
      "\n",
      "A value is trying to be set on a copy of a slice from a DataFrame.\n",
      "Try using .loc[row_indexer,col_indexer] = value instead\n",
      "\n",
      "See the caveats in the documentation: https://pandas.pydata.org/pandas-docs/stable/user_guide/indexing.html#returning-a-view-versus-a-copy\n",
      "\n",
      "C:\\Users\\jungsoo.lee\\AppData\\Local\\Temp\\ipykernel_9468\\1819421996.py:20: SettingWithCopyWarning:\n",
      "\n",
      "\n",
      "A value is trying to be set on a copy of a slice from a DataFrame.\n",
      "Try using .loc[row_indexer,col_indexer] = value instead\n",
      "\n",
      "See the caveats in the documentation: https://pandas.pydata.org/pandas-docs/stable/user_guide/indexing.html#returning-a-view-versus-a-copy\n",
      "\n",
      "C:\\Users\\jungsoo.lee\\AppData\\Local\\Temp\\ipykernel_9468\\1819421996.py:21: SettingWithCopyWarning:\n",
      "\n",
      "\n",
      "A value is trying to be set on a copy of a slice from a DataFrame.\n",
      "Try using .loc[row_indexer,col_indexer] = value instead\n",
      "\n",
      "See the caveats in the documentation: https://pandas.pydata.org/pandas-docs/stable/user_guide/indexing.html#returning-a-view-versus-a-copy\n",
      "\n",
      "C:\\Users\\jungsoo.lee\\AppData\\Local\\Temp\\ipykernel_9468\\1819421996.py:16: SettingWithCopyWarning:\n",
      "\n",
      "\n",
      "A value is trying to be set on a copy of a slice from a DataFrame.\n",
      "Try using .loc[row_indexer,col_indexer] = value instead\n",
      "\n",
      "See the caveats in the documentation: https://pandas.pydata.org/pandas-docs/stable/user_guide/indexing.html#returning-a-view-versus-a-copy\n",
      "\n",
      "C:\\Users\\jungsoo.lee\\AppData\\Local\\Temp\\ipykernel_9468\\1819421996.py:18: SettingWithCopyWarning:\n",
      "\n",
      "\n",
      "A value is trying to be set on a copy of a slice from a DataFrame.\n",
      "Try using .loc[row_indexer,col_indexer] = value instead\n",
      "\n",
      "See the caveats in the documentation: https://pandas.pydata.org/pandas-docs/stable/user_guide/indexing.html#returning-a-view-versus-a-copy\n",
      "\n",
      "C:\\Users\\jungsoo.lee\\AppData\\Local\\Temp\\ipykernel_9468\\1819421996.py:20: SettingWithCopyWarning:\n",
      "\n",
      "\n",
      "A value is trying to be set on a copy of a slice from a DataFrame.\n",
      "Try using .loc[row_indexer,col_indexer] = value instead\n",
      "\n",
      "See the caveats in the documentation: https://pandas.pydata.org/pandas-docs/stable/user_guide/indexing.html#returning-a-view-versus-a-copy\n",
      "\n",
      "C:\\Users\\jungsoo.lee\\AppData\\Local\\Temp\\ipykernel_9468\\1819421996.py:21: SettingWithCopyWarning:\n",
      "\n",
      "\n",
      "A value is trying to be set on a copy of a slice from a DataFrame.\n",
      "Try using .loc[row_indexer,col_indexer] = value instead\n",
      "\n",
      "See the caveats in the documentation: https://pandas.pydata.org/pandas-docs/stable/user_guide/indexing.html#returning-a-view-versus-a-copy\n",
      "\n",
      "C:\\Users\\jungsoo.lee\\AppData\\Local\\Temp\\ipykernel_9468\\1819421996.py:16: SettingWithCopyWarning:\n",
      "\n",
      "\n",
      "A value is trying to be set on a copy of a slice from a DataFrame.\n",
      "Try using .loc[row_indexer,col_indexer] = value instead\n",
      "\n",
      "See the caveats in the documentation: https://pandas.pydata.org/pandas-docs/stable/user_guide/indexing.html#returning-a-view-versus-a-copy\n",
      "\n",
      "C:\\Users\\jungsoo.lee\\AppData\\Local\\Temp\\ipykernel_9468\\1819421996.py:18: SettingWithCopyWarning:\n",
      "\n",
      "\n",
      "A value is trying to be set on a copy of a slice from a DataFrame.\n",
      "Try using .loc[row_indexer,col_indexer] = value instead\n",
      "\n",
      "See the caveats in the documentation: https://pandas.pydata.org/pandas-docs/stable/user_guide/indexing.html#returning-a-view-versus-a-copy\n",
      "\n",
      "C:\\Users\\jungsoo.lee\\AppData\\Local\\Temp\\ipykernel_9468\\1819421996.py:20: SettingWithCopyWarning:\n",
      "\n",
      "\n",
      "A value is trying to be set on a copy of a slice from a DataFrame.\n",
      "Try using .loc[row_indexer,col_indexer] = value instead\n",
      "\n",
      "See the caveats in the documentation: https://pandas.pydata.org/pandas-docs/stable/user_guide/indexing.html#returning-a-view-versus-a-copy\n",
      "\n",
      "C:\\Users\\jungsoo.lee\\AppData\\Local\\Temp\\ipykernel_9468\\1819421996.py:21: SettingWithCopyWarning:\n",
      "\n",
      "\n",
      "A value is trying to be set on a copy of a slice from a DataFrame.\n",
      "Try using .loc[row_indexer,col_indexer] = value instead\n",
      "\n",
      "See the caveats in the documentation: https://pandas.pydata.org/pandas-docs/stable/user_guide/indexing.html#returning-a-view-versus-a-copy\n",
      "\n",
      "C:\\Users\\jungsoo.lee\\AppData\\Local\\Temp\\ipykernel_9468\\1819421996.py:16: SettingWithCopyWarning:\n",
      "\n",
      "\n",
      "A value is trying to be set on a copy of a slice from a DataFrame.\n",
      "Try using .loc[row_indexer,col_indexer] = value instead\n",
      "\n",
      "See the caveats in the documentation: https://pandas.pydata.org/pandas-docs/stable/user_guide/indexing.html#returning-a-view-versus-a-copy\n",
      "\n",
      "C:\\Users\\jungsoo.lee\\AppData\\Local\\Temp\\ipykernel_9468\\1819421996.py:18: SettingWithCopyWarning:\n",
      "\n",
      "\n",
      "A value is trying to be set on a copy of a slice from a DataFrame.\n",
      "Try using .loc[row_indexer,col_indexer] = value instead\n",
      "\n",
      "See the caveats in the documentation: https://pandas.pydata.org/pandas-docs/stable/user_guide/indexing.html#returning-a-view-versus-a-copy\n",
      "\n",
      "C:\\Users\\jungsoo.lee\\AppData\\Local\\Temp\\ipykernel_9468\\1819421996.py:20: SettingWithCopyWarning:\n",
      "\n",
      "\n",
      "A value is trying to be set on a copy of a slice from a DataFrame.\n",
      "Try using .loc[row_indexer,col_indexer] = value instead\n",
      "\n",
      "See the caveats in the documentation: https://pandas.pydata.org/pandas-docs/stable/user_guide/indexing.html#returning-a-view-versus-a-copy\n",
      "\n",
      "C:\\Users\\jungsoo.lee\\AppData\\Local\\Temp\\ipykernel_9468\\1819421996.py:21: SettingWithCopyWarning:\n",
      "\n",
      "\n",
      "A value is trying to be set on a copy of a slice from a DataFrame.\n",
      "Try using .loc[row_indexer,col_indexer] = value instead\n",
      "\n",
      "See the caveats in the documentation: https://pandas.pydata.org/pandas-docs/stable/user_guide/indexing.html#returning-a-view-versus-a-copy\n",
      "\n",
      "C:\\Users\\jungsoo.lee\\AppData\\Local\\Temp\\ipykernel_9468\\1819421996.py:16: SettingWithCopyWarning:\n",
      "\n",
      "\n",
      "A value is trying to be set on a copy of a slice from a DataFrame.\n",
      "Try using .loc[row_indexer,col_indexer] = value instead\n",
      "\n",
      "See the caveats in the documentation: https://pandas.pydata.org/pandas-docs/stable/user_guide/indexing.html#returning-a-view-versus-a-copy\n",
      "\n",
      "C:\\Users\\jungsoo.lee\\AppData\\Local\\Temp\\ipykernel_9468\\1819421996.py:18: SettingWithCopyWarning:\n",
      "\n",
      "\n",
      "A value is trying to be set on a copy of a slice from a DataFrame.\n",
      "Try using .loc[row_indexer,col_indexer] = value instead\n",
      "\n",
      "See the caveats in the documentation: https://pandas.pydata.org/pandas-docs/stable/user_guide/indexing.html#returning-a-view-versus-a-copy\n",
      "\n",
      "C:\\Users\\jungsoo.lee\\AppData\\Local\\Temp\\ipykernel_9468\\1819421996.py:20: SettingWithCopyWarning:\n",
      "\n",
      "\n",
      "A value is trying to be set on a copy of a slice from a DataFrame.\n",
      "Try using .loc[row_indexer,col_indexer] = value instead\n",
      "\n",
      "See the caveats in the documentation: https://pandas.pydata.org/pandas-docs/stable/user_guide/indexing.html#returning-a-view-versus-a-copy\n",
      "\n",
      "C:\\Users\\jungsoo.lee\\AppData\\Local\\Temp\\ipykernel_9468\\1819421996.py:21: SettingWithCopyWarning:\n",
      "\n",
      "\n",
      "A value is trying to be set on a copy of a slice from a DataFrame.\n",
      "Try using .loc[row_indexer,col_indexer] = value instead\n",
      "\n",
      "See the caveats in the documentation: https://pandas.pydata.org/pandas-docs/stable/user_guide/indexing.html#returning-a-view-versus-a-copy\n",
      "\n",
      "C:\\Users\\jungsoo.lee\\AppData\\Local\\Temp\\ipykernel_9468\\1819421996.py:16: SettingWithCopyWarning:\n",
      "\n",
      "\n",
      "A value is trying to be set on a copy of a slice from a DataFrame.\n",
      "Try using .loc[row_indexer,col_indexer] = value instead\n",
      "\n",
      "See the caveats in the documentation: https://pandas.pydata.org/pandas-docs/stable/user_guide/indexing.html#returning-a-view-versus-a-copy\n",
      "\n",
      "C:\\Users\\jungsoo.lee\\AppData\\Local\\Temp\\ipykernel_9468\\1819421996.py:18: SettingWithCopyWarning:\n",
      "\n",
      "\n",
      "A value is trying to be set on a copy of a slice from a DataFrame.\n",
      "Try using .loc[row_indexer,col_indexer] = value instead\n",
      "\n",
      "See the caveats in the documentation: https://pandas.pydata.org/pandas-docs/stable/user_guide/indexing.html#returning-a-view-versus-a-copy\n",
      "\n",
      "C:\\Users\\jungsoo.lee\\AppData\\Local\\Temp\\ipykernel_9468\\1819421996.py:20: SettingWithCopyWarning:\n",
      "\n",
      "\n",
      "A value is trying to be set on a copy of a slice from a DataFrame.\n",
      "Try using .loc[row_indexer,col_indexer] = value instead\n",
      "\n",
      "See the caveats in the documentation: https://pandas.pydata.org/pandas-docs/stable/user_guide/indexing.html#returning-a-view-versus-a-copy\n",
      "\n",
      "C:\\Users\\jungsoo.lee\\AppData\\Local\\Temp\\ipykernel_9468\\1819421996.py:21: SettingWithCopyWarning:\n",
      "\n",
      "\n",
      "A value is trying to be set on a copy of a slice from a DataFrame.\n",
      "Try using .loc[row_indexer,col_indexer] = value instead\n",
      "\n",
      "See the caveats in the documentation: https://pandas.pydata.org/pandas-docs/stable/user_guide/indexing.html#returning-a-view-versus-a-copy\n",
      "\n",
      "C:\\Users\\jungsoo.lee\\AppData\\Local\\Temp\\ipykernel_9468\\1819421996.py:16: SettingWithCopyWarning:\n",
      "\n",
      "\n",
      "A value is trying to be set on a copy of a slice from a DataFrame.\n",
      "Try using .loc[row_indexer,col_indexer] = value instead\n",
      "\n",
      "See the caveats in the documentation: https://pandas.pydata.org/pandas-docs/stable/user_guide/indexing.html#returning-a-view-versus-a-copy\n",
      "\n",
      "C:\\Users\\jungsoo.lee\\AppData\\Local\\Temp\\ipykernel_9468\\1819421996.py:18: SettingWithCopyWarning:\n",
      "\n",
      "\n",
      "A value is trying to be set on a copy of a slice from a DataFrame.\n",
      "Try using .loc[row_indexer,col_indexer] = value instead\n",
      "\n",
      "See the caveats in the documentation: https://pandas.pydata.org/pandas-docs/stable/user_guide/indexing.html#returning-a-view-versus-a-copy\n",
      "\n",
      "C:\\Users\\jungsoo.lee\\AppData\\Local\\Temp\\ipykernel_9468\\1819421996.py:20: SettingWithCopyWarning:\n",
      "\n",
      "\n",
      "A value is trying to be set on a copy of a slice from a DataFrame.\n",
      "Try using .loc[row_indexer,col_indexer] = value instead\n",
      "\n",
      "See the caveats in the documentation: https://pandas.pydata.org/pandas-docs/stable/user_guide/indexing.html#returning-a-view-versus-a-copy\n",
      "\n",
      "C:\\Users\\jungsoo.lee\\AppData\\Local\\Temp\\ipykernel_9468\\1819421996.py:21: SettingWithCopyWarning:\n",
      "\n",
      "\n",
      "A value is trying to be set on a copy of a slice from a DataFrame.\n",
      "Try using .loc[row_indexer,col_indexer] = value instead\n",
      "\n",
      "See the caveats in the documentation: https://pandas.pydata.org/pandas-docs/stable/user_guide/indexing.html#returning-a-view-versus-a-copy\n",
      "\n",
      "C:\\Users\\jungsoo.lee\\AppData\\Local\\Temp\\ipykernel_9468\\1819421996.py:16: SettingWithCopyWarning:\n",
      "\n",
      "\n",
      "A value is trying to be set on a copy of a slice from a DataFrame.\n",
      "Try using .loc[row_indexer,col_indexer] = value instead\n",
      "\n",
      "See the caveats in the documentation: https://pandas.pydata.org/pandas-docs/stable/user_guide/indexing.html#returning-a-view-versus-a-copy\n",
      "\n",
      "C:\\Users\\jungsoo.lee\\AppData\\Local\\Temp\\ipykernel_9468\\1819421996.py:18: SettingWithCopyWarning:\n",
      "\n",
      "\n",
      "A value is trying to be set on a copy of a slice from a DataFrame.\n",
      "Try using .loc[row_indexer,col_indexer] = value instead\n",
      "\n",
      "See the caveats in the documentation: https://pandas.pydata.org/pandas-docs/stable/user_guide/indexing.html#returning-a-view-versus-a-copy\n",
      "\n",
      "C:\\Users\\jungsoo.lee\\AppData\\Local\\Temp\\ipykernel_9468\\1819421996.py:20: SettingWithCopyWarning:\n",
      "\n",
      "\n",
      "A value is trying to be set on a copy of a slice from a DataFrame.\n",
      "Try using .loc[row_indexer,col_indexer] = value instead\n",
      "\n",
      "See the caveats in the documentation: https://pandas.pydata.org/pandas-docs/stable/user_guide/indexing.html#returning-a-view-versus-a-copy\n",
      "\n",
      "C:\\Users\\jungsoo.lee\\AppData\\Local\\Temp\\ipykernel_9468\\1819421996.py:21: SettingWithCopyWarning:\n",
      "\n",
      "\n",
      "A value is trying to be set on a copy of a slice from a DataFrame.\n",
      "Try using .loc[row_indexer,col_indexer] = value instead\n",
      "\n",
      "See the caveats in the documentation: https://pandas.pydata.org/pandas-docs/stable/user_guide/indexing.html#returning-a-view-versus-a-copy\n",
      "\n"
     ]
    },
    {
     "data": {
      "application/vnd.plotly.v1+json": {
       "config": {
        "plotlyServerURL": "https://plot.ly"
       },
       "data": [
        {
         "hoverinfo": "text",
         "hovertext": [
          "H Mart - BERGEN TPKE, LITTLE FERRY, NJ"
         ],
         "lat": [
          40.856226
         ],
         "lon": [
          -74.03327
         ],
         "marker": {
          "color": "blue",
          "opacity": 0.7,
          "size": 20
         },
         "mode": "markers",
         "showlegend": false,
         "subplot": "mapbox",
         "type": "scattermapbox"
        },
        {
         "hoverinfo": "text",
         "hovertext": [
          "H Mart / 321 Broad Ave, Ridgefield",
          "HanNam Mart / 1475 Bergen Blvd, Fort Lee",
          "H Mart / 60 State Route 17 North, Paramus",
          "99 Ranch Market / 450 Hackensack Ave, Hackensack",
          "ShopRite / 500 S River St, Hackensack",
          "H Mart / 112 Linwood Drive #130, Fort Lee",
          "Trader Joe's / 715 River Rd, Edgewater",
          "Trader Joe's / 404 Rt 17 N, Paramus",
          "ShopRite / 201 Roosevelt Pl, Palisades Park",
          "Giant Farmers Market / 324 Main St, Hackensack"
         ],
         "lat": [
          40.824272928277075,
          40.85130962052738,
          40.91567238266829,
          40.909622652150425,
          40.86253807158895,
          40.86120840973767,
          40.819620783085924,
          40.94826484643283,
          40.85197373694006,
          40.888381813118734
         ],
         "lon": [
          -74.01042140667838,
          -73.98688260625744,
          -74.07165326967095,
          -74.02886314879362,
          -74.0341147951449,
          -73.9708901252612,
          -73.97751009196382,
          -74.07065287807275,
          -74.0046527614056,
          -74.04013290282775
         ],
         "marker": {
          "color": [
           13.3,
           10.2,
           7.5,
           7,
           7,
           5.6,
           4.7,
           4.4,
           4.2,
           3.8
          ],
          "colorbar": {
           "title": {
            "text": "% of Visitors"
           },
           "x": 0.02
          },
          "colorscale": [
           [
            0,
            "orange"
           ],
           [
            1,
            "red"
           ]
          ],
          "opacity": 0.7,
          "size": [
           66.5,
           51,
           37.5,
           35,
           35,
           28,
           23.5,
           22,
           21,
           19
          ]
         },
         "mode": "markers+text",
         "name": "",
         "showlegend": false,
         "subplot": "mapbox",
         "text": [
          "1",
          "2",
          "3",
          "4",
          "4",
          "6",
          "7",
          "8",
          "9",
          "10"
         ],
         "type": "scattermapbox"
        },
        {
         "cells": {
          "font": {
           "color": [
            "darkslategray",
            "darkslategray",
            "darkslategray",
            "darkslategray",
            [
             "green",
             "red",
             "red",
             "red",
             "green",
             "green",
             "green",
             "green",
             "green",
             "green"
            ],
            [
             "red",
             "red",
             "green",
             "red",
             "red",
             "red",
             "red",
             "green",
             "red",
             "green"
            ]
           ]
          },
          "height": 30,
          "values": [
           [
            1,
            2,
            3,
            4,
            4,
            6,
            7,
            8,
            9,
            10
           ],
           [
            "H Mart / 321 Broad Ave, Ridgefield",
            "HanNam Mart / 1475 Bergen Blvd, Fort Lee",
            "H Mart / 60 State Route 17 North, Paramus",
            "99 Ranch Market / 450 Hackensack Ave, Hackensack",
            "ShopRite / 500 S River St, Hackensack",
            "H Mart / 112 Linwood Drive #130, Fort Lee",
            "Trader Joe's / 715 River Rd, Edgewater",
            "Trader Joe's / 404 Rt 17 N, Paramus",
            "ShopRite / 201 Roosevelt Pl, Palisades Park",
            "Giant Farmers Market / 324 Main St, Hackensack"
           ],
           [
            "2.5",
            "2.4",
            "4.6",
            "3.7",
            "0.4",
            "3.3",
            "3.9",
            "6.7",
            "1.5",
            "2.3"
           ],
           [
            13.3,
            10.2,
            7.5,
            7,
            7,
            5.6,
            4.7,
            4.4,
            4.2,
            3.8
           ],
           [
            0.9,
            -0.6,
            -1.2,
            -0.6,
            1.2,
            0.1,
            0.8,
            0.5,
            0.4,
            0.3
           ],
           [
            -2.2,
            -0.3,
            0.1,
            -2.4,
            -0.3,
            -0.5,
            -0.2,
            1.1,
            -0.3,
            0.5
           ]
          ]
         },
         "columnwidth": [
          10,
          60,
          10,
          10,
          10,
          10
         ],
         "domain": {
          "x": [
           0.54,
           1
          ],
          "y": [
           0.51,
           1
          ]
         },
         "header": {
          "font": {
           "size": 16
          },
          "values": [
           "Rank",
           "Name/ Address",
           "Distance (Miles)",
           "% of Visitors",
           "Last Month",
           "Last Year"
          ]
         },
         "type": "table"
        },
        {
         "hoverinfo": "text",
         "hovertext": [
          "6.4",
          "5.2",
          "5.1",
          "4.8",
          "4.1000000000000005"
         ],
         "name": "H Mart/ 321 Broad Ave",
         "stackgroup": "one",
         "type": "scatter",
         "x": [
          "W1",
          "W2",
          "W3",
          "W4",
          "W5"
         ],
         "xaxis": "x",
         "y": [
          6.4,
          5.2,
          5.1,
          4.8,
          4.1000000000000005
         ],
         "yaxis": "y"
        },
        {
         "hoverinfo": "text",
         "hovertext": [
          "4.2",
          "2.9000000000000004",
          "4.1000000000000005",
          "3.4000000000000004",
          "3.9"
         ],
         "name": "HanNam Mart/ 1475 Bergen Blvd",
         "stackgroup": "one",
         "type": "scatter",
         "x": [
          "W1",
          "W2",
          "W3",
          "W4",
          "W5"
         ],
         "xaxis": "x",
         "y": [
          4.2,
          2.9000000000000004,
          4.1000000000000005,
          3.4000000000000004,
          3.9
         ],
         "yaxis": "y"
        },
        {
         "hoverinfo": "text",
         "hovertext": [
          "3.8",
          "2.1999999999999997",
          "2.0",
          "2.9000000000000004",
          "1.7000000000000002"
         ],
         "name": "H Mart/ 60 State Route 17 North",
         "stackgroup": "one",
         "type": "scatter",
         "x": [
          "W1",
          "W2",
          "W3",
          "W4",
          "W5"
         ],
         "xaxis": "x",
         "y": [
          3.8,
          2.1999999999999997,
          2,
          2.9000000000000004,
          1.7000000000000002
         ],
         "yaxis": "y"
        },
        {
         "hoverinfo": "text",
         "hovertext": [
          "3.0",
          "3.2",
          "2.1",
          "3.2",
          "2.5"
         ],
         "name": "99 Ranch Market/ 450 Hackensack Ave",
         "stackgroup": "one",
         "type": "scatter",
         "x": [
          "W1",
          "W2",
          "W3",
          "W4",
          "W5"
         ],
         "xaxis": "x",
         "y": [
          3,
          3.2,
          2.1,
          3.2,
          2.5
         ],
         "yaxis": "y"
        },
        {
         "hoverinfo": "text",
         "hovertext": [
          "3.1",
          "6.0",
          "3.2",
          "4.3999999999999995",
          "4.3"
         ],
         "name": "ShopRite/ 500 S River St",
         "stackgroup": "one",
         "type": "scatter",
         "x": [
          "W1",
          "W2",
          "W3",
          "W4",
          "W5"
         ],
         "xaxis": "x",
         "y": [
          3.1,
          6,
          3.2,
          4.3999999999999995,
          4.3
         ],
         "yaxis": "y"
        }
       ],
       "layout": {
        "annotations": [
         {
          "font": {
           "size": 18
          },
          "showarrow": false,
          "text": "Competitor List",
          "x": 0.77,
          "xanchor": "center",
          "xref": "paper",
          "y": 1,
          "yanchor": "bottom",
          "yref": "paper",
          "yshift": 20
         },
         {
          "font": {
           "size": 18
          },
          "showarrow": false,
          "text": "Weekly Trend",
          "x": 0.77,
          "xanchor": "center",
          "xref": "paper",
          "y": 0.49,
          "yanchor": "bottom",
          "yref": "paper",
          "yshift": 20
         }
        ],
        "height": 1000,
        "legend": {
         "y": 0.4
        },
        "mapbox": {
         "accesstoken": "pk.eyJ1IjoianVuZ3Nvb2xlZTEyMyIsImEiOiJjbG5pemliaWcwdDc4MmxtanlsazFjNnphIn0.DuoiXA_AYMRMk1ZQjzS6ZA",
         "center": {
          "lat": 40.856226,
          "lon": -74.03327
         },
         "domain": {
          "x": [
           0,
           0.46
          ],
          "y": [
           0,
           1
          ]
         },
         "style": "light",
         "zoom": 12
        },
        "margin": {
         "b": 10,
         "l": 20,
         "r": 20,
         "t": 100
        },
        "template": {
         "data": {
          "bar": [
           {
            "error_x": {
             "color": "#2a3f5f"
            },
            "error_y": {
             "color": "#2a3f5f"
            },
            "marker": {
             "line": {
              "color": "#E5ECF6",
              "width": 0.5
             },
             "pattern": {
              "fillmode": "overlay",
              "size": 10,
              "solidity": 0.2
             }
            },
            "type": "bar"
           }
          ],
          "barpolar": [
           {
            "marker": {
             "line": {
              "color": "#E5ECF6",
              "width": 0.5
             },
             "pattern": {
              "fillmode": "overlay",
              "size": 10,
              "solidity": 0.2
             }
            },
            "type": "barpolar"
           }
          ],
          "carpet": [
           {
            "aaxis": {
             "endlinecolor": "#2a3f5f",
             "gridcolor": "white",
             "linecolor": "white",
             "minorgridcolor": "white",
             "startlinecolor": "#2a3f5f"
            },
            "baxis": {
             "endlinecolor": "#2a3f5f",
             "gridcolor": "white",
             "linecolor": "white",
             "minorgridcolor": "white",
             "startlinecolor": "#2a3f5f"
            },
            "type": "carpet"
           }
          ],
          "choropleth": [
           {
            "colorbar": {
             "outlinewidth": 0,
             "ticks": ""
            },
            "type": "choropleth"
           }
          ],
          "contour": [
           {
            "colorbar": {
             "outlinewidth": 0,
             "ticks": ""
            },
            "colorscale": [
             [
              0,
              "#0d0887"
             ],
             [
              0.1111111111111111,
              "#46039f"
             ],
             [
              0.2222222222222222,
              "#7201a8"
             ],
             [
              0.3333333333333333,
              "#9c179e"
             ],
             [
              0.4444444444444444,
              "#bd3786"
             ],
             [
              0.5555555555555556,
              "#d8576b"
             ],
             [
              0.6666666666666666,
              "#ed7953"
             ],
             [
              0.7777777777777778,
              "#fb9f3a"
             ],
             [
              0.8888888888888888,
              "#fdca26"
             ],
             [
              1,
              "#f0f921"
             ]
            ],
            "type": "contour"
           }
          ],
          "contourcarpet": [
           {
            "colorbar": {
             "outlinewidth": 0,
             "ticks": ""
            },
            "type": "contourcarpet"
           }
          ],
          "heatmap": [
           {
            "colorbar": {
             "outlinewidth": 0,
             "ticks": ""
            },
            "colorscale": [
             [
              0,
              "#0d0887"
             ],
             [
              0.1111111111111111,
              "#46039f"
             ],
             [
              0.2222222222222222,
              "#7201a8"
             ],
             [
              0.3333333333333333,
              "#9c179e"
             ],
             [
              0.4444444444444444,
              "#bd3786"
             ],
             [
              0.5555555555555556,
              "#d8576b"
             ],
             [
              0.6666666666666666,
              "#ed7953"
             ],
             [
              0.7777777777777778,
              "#fb9f3a"
             ],
             [
              0.8888888888888888,
              "#fdca26"
             ],
             [
              1,
              "#f0f921"
             ]
            ],
            "type": "heatmap"
           }
          ],
          "heatmapgl": [
           {
            "colorbar": {
             "outlinewidth": 0,
             "ticks": ""
            },
            "colorscale": [
             [
              0,
              "#0d0887"
             ],
             [
              0.1111111111111111,
              "#46039f"
             ],
             [
              0.2222222222222222,
              "#7201a8"
             ],
             [
              0.3333333333333333,
              "#9c179e"
             ],
             [
              0.4444444444444444,
              "#bd3786"
             ],
             [
              0.5555555555555556,
              "#d8576b"
             ],
             [
              0.6666666666666666,
              "#ed7953"
             ],
             [
              0.7777777777777778,
              "#fb9f3a"
             ],
             [
              0.8888888888888888,
              "#fdca26"
             ],
             [
              1,
              "#f0f921"
             ]
            ],
            "type": "heatmapgl"
           }
          ],
          "histogram": [
           {
            "marker": {
             "pattern": {
              "fillmode": "overlay",
              "size": 10,
              "solidity": 0.2
             }
            },
            "type": "histogram"
           }
          ],
          "histogram2d": [
           {
            "colorbar": {
             "outlinewidth": 0,
             "ticks": ""
            },
            "colorscale": [
             [
              0,
              "#0d0887"
             ],
             [
              0.1111111111111111,
              "#46039f"
             ],
             [
              0.2222222222222222,
              "#7201a8"
             ],
             [
              0.3333333333333333,
              "#9c179e"
             ],
             [
              0.4444444444444444,
              "#bd3786"
             ],
             [
              0.5555555555555556,
              "#d8576b"
             ],
             [
              0.6666666666666666,
              "#ed7953"
             ],
             [
              0.7777777777777778,
              "#fb9f3a"
             ],
             [
              0.8888888888888888,
              "#fdca26"
             ],
             [
              1,
              "#f0f921"
             ]
            ],
            "type": "histogram2d"
           }
          ],
          "histogram2dcontour": [
           {
            "colorbar": {
             "outlinewidth": 0,
             "ticks": ""
            },
            "colorscale": [
             [
              0,
              "#0d0887"
             ],
             [
              0.1111111111111111,
              "#46039f"
             ],
             [
              0.2222222222222222,
              "#7201a8"
             ],
             [
              0.3333333333333333,
              "#9c179e"
             ],
             [
              0.4444444444444444,
              "#bd3786"
             ],
             [
              0.5555555555555556,
              "#d8576b"
             ],
             [
              0.6666666666666666,
              "#ed7953"
             ],
             [
              0.7777777777777778,
              "#fb9f3a"
             ],
             [
              0.8888888888888888,
              "#fdca26"
             ],
             [
              1,
              "#f0f921"
             ]
            ],
            "type": "histogram2dcontour"
           }
          ],
          "mesh3d": [
           {
            "colorbar": {
             "outlinewidth": 0,
             "ticks": ""
            },
            "type": "mesh3d"
           }
          ],
          "parcoords": [
           {
            "line": {
             "colorbar": {
              "outlinewidth": 0,
              "ticks": ""
             }
            },
            "type": "parcoords"
           }
          ],
          "pie": [
           {
            "automargin": true,
            "type": "pie"
           }
          ],
          "scatter": [
           {
            "fillpattern": {
             "fillmode": "overlay",
             "size": 10,
             "solidity": 0.2
            },
            "type": "scatter"
           }
          ],
          "scatter3d": [
           {
            "line": {
             "colorbar": {
              "outlinewidth": 0,
              "ticks": ""
             }
            },
            "marker": {
             "colorbar": {
              "outlinewidth": 0,
              "ticks": ""
             }
            },
            "type": "scatter3d"
           }
          ],
          "scattercarpet": [
           {
            "marker": {
             "colorbar": {
              "outlinewidth": 0,
              "ticks": ""
             }
            },
            "type": "scattercarpet"
           }
          ],
          "scattergeo": [
           {
            "marker": {
             "colorbar": {
              "outlinewidth": 0,
              "ticks": ""
             }
            },
            "type": "scattergeo"
           }
          ],
          "scattergl": [
           {
            "marker": {
             "colorbar": {
              "outlinewidth": 0,
              "ticks": ""
             }
            },
            "type": "scattergl"
           }
          ],
          "scattermapbox": [
           {
            "marker": {
             "colorbar": {
              "outlinewidth": 0,
              "ticks": ""
             }
            },
            "type": "scattermapbox"
           }
          ],
          "scatterpolar": [
           {
            "marker": {
             "colorbar": {
              "outlinewidth": 0,
              "ticks": ""
             }
            },
            "type": "scatterpolar"
           }
          ],
          "scatterpolargl": [
           {
            "marker": {
             "colorbar": {
              "outlinewidth": 0,
              "ticks": ""
             }
            },
            "type": "scatterpolargl"
           }
          ],
          "scatterternary": [
           {
            "marker": {
             "colorbar": {
              "outlinewidth": 0,
              "ticks": ""
             }
            },
            "type": "scatterternary"
           }
          ],
          "surface": [
           {
            "colorbar": {
             "outlinewidth": 0,
             "ticks": ""
            },
            "colorscale": [
             [
              0,
              "#0d0887"
             ],
             [
              0.1111111111111111,
              "#46039f"
             ],
             [
              0.2222222222222222,
              "#7201a8"
             ],
             [
              0.3333333333333333,
              "#9c179e"
             ],
             [
              0.4444444444444444,
              "#bd3786"
             ],
             [
              0.5555555555555556,
              "#d8576b"
             ],
             [
              0.6666666666666666,
              "#ed7953"
             ],
             [
              0.7777777777777778,
              "#fb9f3a"
             ],
             [
              0.8888888888888888,
              "#fdca26"
             ],
             [
              1,
              "#f0f921"
             ]
            ],
            "type": "surface"
           }
          ],
          "table": [
           {
            "cells": {
             "fill": {
              "color": "#EBF0F8"
             },
             "line": {
              "color": "white"
             }
            },
            "header": {
             "fill": {
              "color": "#C8D4E3"
             },
             "line": {
              "color": "white"
             }
            },
            "type": "table"
           }
          ]
         },
         "layout": {
          "annotationdefaults": {
           "arrowcolor": "#2a3f5f",
           "arrowhead": 0,
           "arrowwidth": 1
          },
          "autotypenumbers": "strict",
          "coloraxis": {
           "colorbar": {
            "outlinewidth": 0,
            "ticks": ""
           }
          },
          "colorscale": {
           "diverging": [
            [
             0,
             "#8e0152"
            ],
            [
             0.1,
             "#c51b7d"
            ],
            [
             0.2,
             "#de77ae"
            ],
            [
             0.3,
             "#f1b6da"
            ],
            [
             0.4,
             "#fde0ef"
            ],
            [
             0.5,
             "#f7f7f7"
            ],
            [
             0.6,
             "#e6f5d0"
            ],
            [
             0.7,
             "#b8e186"
            ],
            [
             0.8,
             "#7fbc41"
            ],
            [
             0.9,
             "#4d9221"
            ],
            [
             1,
             "#276419"
            ]
           ],
           "sequential": [
            [
             0,
             "#0d0887"
            ],
            [
             0.1111111111111111,
             "#46039f"
            ],
            [
             0.2222222222222222,
             "#7201a8"
            ],
            [
             0.3333333333333333,
             "#9c179e"
            ],
            [
             0.4444444444444444,
             "#bd3786"
            ],
            [
             0.5555555555555556,
             "#d8576b"
            ],
            [
             0.6666666666666666,
             "#ed7953"
            ],
            [
             0.7777777777777778,
             "#fb9f3a"
            ],
            [
             0.8888888888888888,
             "#fdca26"
            ],
            [
             1,
             "#f0f921"
            ]
           ],
           "sequentialminus": [
            [
             0,
             "#0d0887"
            ],
            [
             0.1111111111111111,
             "#46039f"
            ],
            [
             0.2222222222222222,
             "#7201a8"
            ],
            [
             0.3333333333333333,
             "#9c179e"
            ],
            [
             0.4444444444444444,
             "#bd3786"
            ],
            [
             0.5555555555555556,
             "#d8576b"
            ],
            [
             0.6666666666666666,
             "#ed7953"
            ],
            [
             0.7777777777777778,
             "#fb9f3a"
            ],
            [
             0.8888888888888888,
             "#fdca26"
            ],
            [
             1,
             "#f0f921"
            ]
           ]
          },
          "colorway": [
           "#636efa",
           "#EF553B",
           "#00cc96",
           "#ab63fa",
           "#FFA15A",
           "#19d3f3",
           "#FF6692",
           "#B6E880",
           "#FF97FF",
           "#FECB52"
          ],
          "font": {
           "color": "#2a3f5f"
          },
          "geo": {
           "bgcolor": "white",
           "lakecolor": "white",
           "landcolor": "#E5ECF6",
           "showlakes": true,
           "showland": true,
           "subunitcolor": "white"
          },
          "hoverlabel": {
           "align": "left"
          },
          "hovermode": "closest",
          "mapbox": {
           "style": "light"
          },
          "paper_bgcolor": "white",
          "plot_bgcolor": "#E5ECF6",
          "polar": {
           "angularaxis": {
            "gridcolor": "white",
            "linecolor": "white",
            "ticks": ""
           },
           "bgcolor": "#E5ECF6",
           "radialaxis": {
            "gridcolor": "white",
            "linecolor": "white",
            "ticks": ""
           }
          },
          "scene": {
           "xaxis": {
            "backgroundcolor": "#E5ECF6",
            "gridcolor": "white",
            "gridwidth": 2,
            "linecolor": "white",
            "showbackground": true,
            "ticks": "",
            "zerolinecolor": "white"
           },
           "yaxis": {
            "backgroundcolor": "#E5ECF6",
            "gridcolor": "white",
            "gridwidth": 2,
            "linecolor": "white",
            "showbackground": true,
            "ticks": "",
            "zerolinecolor": "white"
           },
           "zaxis": {
            "backgroundcolor": "#E5ECF6",
            "gridcolor": "white",
            "gridwidth": 2,
            "linecolor": "white",
            "showbackground": true,
            "ticks": "",
            "zerolinecolor": "white"
           }
          },
          "shapedefaults": {
           "line": {
            "color": "#2a3f5f"
           }
          },
          "ternary": {
           "aaxis": {
            "gridcolor": "white",
            "linecolor": "white",
            "ticks": ""
           },
           "baxis": {
            "gridcolor": "white",
            "linecolor": "white",
            "ticks": ""
           },
           "bgcolor": "#E5ECF6",
           "caxis": {
            "gridcolor": "white",
            "linecolor": "white",
            "ticks": ""
           }
          },
          "title": {
           "x": 0.05
          },
          "xaxis": {
           "automargin": true,
           "gridcolor": "white",
           "linecolor": "white",
           "ticks": "",
           "title": {
            "standoff": 15
           },
           "zerolinecolor": "white",
           "zerolinewidth": 2
          },
          "yaxis": {
           "automargin": true,
           "gridcolor": "white",
           "linecolor": "white",
           "ticks": "",
           "title": {
            "standoff": 15
           },
           "zerolinecolor": "white",
           "zerolinewidth": 2
          }
         }
        },
        "title": {
         "font": {
          "size": 24
         },
         "text": "H Mart - BERGEN TPKE, LITTLE FERRY, NJ"
        },
        "width": 2400,
        "xaxis": {
         "anchor": "y",
         "domain": [
          0.54,
          1
         ],
         "title": {
          "text": "Week #"
         }
        },
        "yaxis": {
         "anchor": "x",
         "domain": [
          0,
          0.49
         ],
         "title": {
          "text": "% of Visitors"
         }
        }
       }
      }
     },
     "metadata": {},
     "output_type": "display_data"
    },
    {
     "data": {
      "application/vnd.plotly.v1+json": {
       "config": {
        "plotlyServerURL": "https://plot.ly"
       },
       "data": [
        {
         "hoverinfo": "text",
         "hovertext": [
          "H Mart - OLD DENTON RD, CARROLLTON, TX"
         ],
         "lat": [
          32.984908
         ],
         "lon": [
          -96.912479
         ],
         "marker": {
          "color": "blue",
          "opacity": 0.7,
          "size": 20
         },
         "mode": "markers",
         "showlegend": false,
         "subplot": "mapbox",
         "type": "scattermapbox"
        },
        {
         "hoverinfo": "text",
         "hovertext": [
          "99 Ranch Market / 2352 Old Denton Rd, Carrollton",
          "H Mart / 3320 K Ave, Plano",
          "Hiep Thai Food Store / 2430 E Pioneer Pkwy, Arlington",
          "H-E-B / 6001 Preston Rd Suite 100, Plano",
          "Mitsuwa Marketplace / 100 Legacy Dr, Plano",
          "Fresh K International Farmers Market / 4060 TX-121 #150, Carrollton",
          "Teso Life / 2540 Old Denton Rd, Carrollton",
          "Komart Marketplace / 2240 Royal Ln # 306, Dallas",
          "Kroger / 7505 N Macarthur Blvd, Irving",
          "WinCo Foods / 2620 N Josey Ln, Carrollton"
         ],
         "lat": [
          32.98068485272146,
          33.039125231244554,
          32.71054966676945,
          33.05477458619725,
          33.0666878492178,
          33.02026178351018,
          32.98068746420771,
          32.89445709917525,
          32.90872480424422,
          32.98674092899999
         ],
         "lon": [
          -96.90896737146788,
          -96.69651717751903,
          -97.06717109228416,
          -96.79716042411695,
          -96.69310537912968,
          -96.9335998054637,
          -96.90774873425481,
          -96.90342756794068,
          -96.9610430290221,
          -96.88904505643549
         ],
         "marker": {
          "color": [
           11.6,
           5.2,
           4.3,
           4,
           3.8,
           3.7,
           3.4,
           3.3,
           3.3,
           3.1
          ],
          "colorbar": {
           "title": {
            "text": "% of Visitors"
           },
           "x": 0.02
          },
          "colorscale": [
           [
            0,
            "orange"
           ],
           [
            1,
            "red"
           ]
          ],
          "opacity": 0.7,
          "size": [
           58,
           26,
           21.5,
           20,
           19,
           18.5,
           17,
           16.5,
           16.5,
           15.5
          ]
         },
         "mode": "markers+text",
         "name": "",
         "showlegend": false,
         "subplot": "mapbox",
         "text": [
          "1",
          "2",
          "3",
          "4",
          "5",
          "6",
          "7",
          "8",
          "8",
          "10"
         ],
         "type": "scattermapbox"
        },
        {
         "cells": {
          "font": {
           "color": [
            "darkslategray",
            "darkslategray",
            "darkslategray",
            "darkslategray",
            [
             "green",
             "red",
             "green",
             "red",
             "green",
             "red",
             "green",
             "red",
             "green",
             "green"
            ],
            [
             "red",
             "green",
             "green",
             "green",
             "green",
             "green",
             "green",
             "red",
             "green",
             "green"
            ]
           ]
          },
          "height": 30,
          "values": [
           [
            1,
            2,
            3,
            4,
            5,
            6,
            7,
            8,
            8,
            10
           ],
           [
            "99 Ranch Market / 2352 Old Denton Rd, Carrollton",
            "H Mart / 3320 K Ave, Plano",
            "Hiep Thai Food Store / 2430 E Pioneer Pkwy, Arlington",
            "H-E-B / 6001 Preston Rd Suite 100, Plano",
            "Mitsuwa Marketplace / 100 Legacy Dr, Plano",
            "Fresh K International Farmers Market / 4060 TX-121 #150, Carrollton",
            "Teso Life / 2540 Old Denton Rd, Carrollton",
            "Komart Marketplace / 2240 Royal Ln # 306, Dallas",
            "Kroger / 7505 N Macarthur Blvd, Irving",
            "WinCo Foods / 2620 N Josey Ln, Carrollton"
           ],
           [
            "0.4",
            "13.1",
            "21",
            "8.2",
            "13.9",
            "2.7",
            "0.4",
            "6.3",
            "6",
            "1.4"
           ],
           [
            11.6,
            5.2,
            4.3,
            4,
            3.8,
            3.7,
            3.4,
            3.3,
            3.3,
            3.1
           ],
           [
            1,
            -0.3,
            0.3,
            -0.1,
            0.4,
            -2.3,
            0.3,
            0,
            1.6,
            0.7
           ],
           [
            -0.6,
            1.3,
            0.9,
            4,
            1.2,
            3.7,
            1.8,
            -0.5,
            0.1,
            0.9
           ]
          ]
         },
         "columnwidth": [
          10,
          60,
          10,
          10,
          10,
          10
         ],
         "domain": {
          "x": [
           0.54,
           1
          ],
          "y": [
           0.51,
           1
          ]
         },
         "header": {
          "font": {
           "size": 16
          },
          "values": [
           "Rank",
           "Name/ Address",
           "Distance (Miles)",
           "% of Visitors",
           "Last Month",
           "Last Year"
          ]
         },
         "type": "table"
        },
        {
         "hoverinfo": "text",
         "hovertext": [
          "8.6",
          "7.1",
          "7.199999999999999",
          "7.7",
          "8.7"
         ],
         "name": "99 Ranch Market/ 2352 Old Denton Rd",
         "stackgroup": "one",
         "type": "scatter",
         "x": [
          "W1",
          "W2",
          "W3",
          "W4",
          "W5"
         ],
         "xaxis": "x",
         "y": [
          8.6,
          7.1,
          7.199999999999999,
          7.7,
          8.7
         ],
         "yaxis": "y"
        },
        {
         "hoverinfo": "text",
         "hovertext": [
          "2.3",
          "1.7999999999999998",
          "1.6",
          "1.6",
          "1.9"
         ],
         "name": "H Mart/ 3320 K Ave",
         "stackgroup": "one",
         "type": "scatter",
         "x": [
          "W1",
          "W2",
          "W3",
          "W4",
          "W5"
         ],
         "xaxis": "x",
         "y": [
          2.3,
          1.7999999999999998,
          1.6,
          1.6,
          1.9
         ],
         "yaxis": "y"
        },
        {
         "hoverinfo": "text",
         "hovertext": [
          "1.5",
          "0.7000000000000001",
          "0.8",
          "1.3",
          "1.2"
         ],
         "name": "Hiep Thai Food Store/ 2430 E Pioneer Pkwy",
         "stackgroup": "one",
         "type": "scatter",
         "x": [
          "W1",
          "W2",
          "W3",
          "W4",
          "W5"
         ],
         "xaxis": "x",
         "y": [
          1.5,
          0.7000000000000001,
          0.8,
          1.3,
          1.2
         ],
         "yaxis": "y"
        },
        {
         "hoverinfo": "text",
         "hovertext": [
          "0.8999999999999999",
          "2.1",
          "1.7999999999999998",
          "0.7000000000000001",
          "1.0"
         ],
         "name": "H-E-B/ 6001 Preston Rd Suite 100",
         "stackgroup": "one",
         "type": "scatter",
         "x": [
          "W1",
          "W2",
          "W3",
          "W4",
          "W5"
         ],
         "xaxis": "x",
         "y": [
          0.8999999999999999,
          2.1,
          1.7999999999999998,
          0.7000000000000001,
          1
         ],
         "yaxis": "y"
        },
        {
         "hoverinfo": "text",
         "hovertext": [
          "1.4000000000000001",
          "7.000000000000001",
          "1.3",
          "1.5",
          "1.0999999999999999"
         ],
         "name": "Mitsuwa Marketplace/ 100 Legacy Dr",
         "stackgroup": "one",
         "type": "scatter",
         "x": [
          "W1",
          "W2",
          "W3",
          "W4",
          "W5"
         ],
         "xaxis": "x",
         "y": [
          1.4000000000000001,
          7.000000000000001,
          1.3,
          1.5,
          1.0999999999999999
         ],
         "yaxis": "y"
        }
       ],
       "layout": {
        "annotations": [
         {
          "font": {
           "size": 18
          },
          "showarrow": false,
          "text": "Competitor List",
          "x": 0.77,
          "xanchor": "center",
          "xref": "paper",
          "y": 1,
          "yanchor": "bottom",
          "yref": "paper",
          "yshift": 20
         },
         {
          "font": {
           "size": 18
          },
          "showarrow": false,
          "text": "Weekly Trend",
          "x": 0.77,
          "xanchor": "center",
          "xref": "paper",
          "y": 0.49,
          "yanchor": "bottom",
          "yref": "paper",
          "yshift": 20
         }
        ],
        "height": 1000,
        "legend": {
         "y": 0.4
        },
        "mapbox": {
         "accesstoken": "pk.eyJ1IjoianVuZ3Nvb2xlZTEyMyIsImEiOiJjbG5pemliaWcwdDc4MmxtanlsazFjNnphIn0.DuoiXA_AYMRMk1ZQjzS6ZA",
         "center": {
          "lat": 32.984908,
          "lon": -96.912479
         },
         "domain": {
          "x": [
           0,
           0.46
          ],
          "y": [
           0,
           1
          ]
         },
         "style": "light",
         "zoom": 12
        },
        "margin": {
         "b": 10,
         "l": 20,
         "r": 20,
         "t": 100
        },
        "template": {
         "data": {
          "bar": [
           {
            "error_x": {
             "color": "#2a3f5f"
            },
            "error_y": {
             "color": "#2a3f5f"
            },
            "marker": {
             "line": {
              "color": "#E5ECF6",
              "width": 0.5
             },
             "pattern": {
              "fillmode": "overlay",
              "size": 10,
              "solidity": 0.2
             }
            },
            "type": "bar"
           }
          ],
          "barpolar": [
           {
            "marker": {
             "line": {
              "color": "#E5ECF6",
              "width": 0.5
             },
             "pattern": {
              "fillmode": "overlay",
              "size": 10,
              "solidity": 0.2
             }
            },
            "type": "barpolar"
           }
          ],
          "carpet": [
           {
            "aaxis": {
             "endlinecolor": "#2a3f5f",
             "gridcolor": "white",
             "linecolor": "white",
             "minorgridcolor": "white",
             "startlinecolor": "#2a3f5f"
            },
            "baxis": {
             "endlinecolor": "#2a3f5f",
             "gridcolor": "white",
             "linecolor": "white",
             "minorgridcolor": "white",
             "startlinecolor": "#2a3f5f"
            },
            "type": "carpet"
           }
          ],
          "choropleth": [
           {
            "colorbar": {
             "outlinewidth": 0,
             "ticks": ""
            },
            "type": "choropleth"
           }
          ],
          "contour": [
           {
            "colorbar": {
             "outlinewidth": 0,
             "ticks": ""
            },
            "colorscale": [
             [
              0,
              "#0d0887"
             ],
             [
              0.1111111111111111,
              "#46039f"
             ],
             [
              0.2222222222222222,
              "#7201a8"
             ],
             [
              0.3333333333333333,
              "#9c179e"
             ],
             [
              0.4444444444444444,
              "#bd3786"
             ],
             [
              0.5555555555555556,
              "#d8576b"
             ],
             [
              0.6666666666666666,
              "#ed7953"
             ],
             [
              0.7777777777777778,
              "#fb9f3a"
             ],
             [
              0.8888888888888888,
              "#fdca26"
             ],
             [
              1,
              "#f0f921"
             ]
            ],
            "type": "contour"
           }
          ],
          "contourcarpet": [
           {
            "colorbar": {
             "outlinewidth": 0,
             "ticks": ""
            },
            "type": "contourcarpet"
           }
          ],
          "heatmap": [
           {
            "colorbar": {
             "outlinewidth": 0,
             "ticks": ""
            },
            "colorscale": [
             [
              0,
              "#0d0887"
             ],
             [
              0.1111111111111111,
              "#46039f"
             ],
             [
              0.2222222222222222,
              "#7201a8"
             ],
             [
              0.3333333333333333,
              "#9c179e"
             ],
             [
              0.4444444444444444,
              "#bd3786"
             ],
             [
              0.5555555555555556,
              "#d8576b"
             ],
             [
              0.6666666666666666,
              "#ed7953"
             ],
             [
              0.7777777777777778,
              "#fb9f3a"
             ],
             [
              0.8888888888888888,
              "#fdca26"
             ],
             [
              1,
              "#f0f921"
             ]
            ],
            "type": "heatmap"
           }
          ],
          "heatmapgl": [
           {
            "colorbar": {
             "outlinewidth": 0,
             "ticks": ""
            },
            "colorscale": [
             [
              0,
              "#0d0887"
             ],
             [
              0.1111111111111111,
              "#46039f"
             ],
             [
              0.2222222222222222,
              "#7201a8"
             ],
             [
              0.3333333333333333,
              "#9c179e"
             ],
             [
              0.4444444444444444,
              "#bd3786"
             ],
             [
              0.5555555555555556,
              "#d8576b"
             ],
             [
              0.6666666666666666,
              "#ed7953"
             ],
             [
              0.7777777777777778,
              "#fb9f3a"
             ],
             [
              0.8888888888888888,
              "#fdca26"
             ],
             [
              1,
              "#f0f921"
             ]
            ],
            "type": "heatmapgl"
           }
          ],
          "histogram": [
           {
            "marker": {
             "pattern": {
              "fillmode": "overlay",
              "size": 10,
              "solidity": 0.2
             }
            },
            "type": "histogram"
           }
          ],
          "histogram2d": [
           {
            "colorbar": {
             "outlinewidth": 0,
             "ticks": ""
            },
            "colorscale": [
             [
              0,
              "#0d0887"
             ],
             [
              0.1111111111111111,
              "#46039f"
             ],
             [
              0.2222222222222222,
              "#7201a8"
             ],
             [
              0.3333333333333333,
              "#9c179e"
             ],
             [
              0.4444444444444444,
              "#bd3786"
             ],
             [
              0.5555555555555556,
              "#d8576b"
             ],
             [
              0.6666666666666666,
              "#ed7953"
             ],
             [
              0.7777777777777778,
              "#fb9f3a"
             ],
             [
              0.8888888888888888,
              "#fdca26"
             ],
             [
              1,
              "#f0f921"
             ]
            ],
            "type": "histogram2d"
           }
          ],
          "histogram2dcontour": [
           {
            "colorbar": {
             "outlinewidth": 0,
             "ticks": ""
            },
            "colorscale": [
             [
              0,
              "#0d0887"
             ],
             [
              0.1111111111111111,
              "#46039f"
             ],
             [
              0.2222222222222222,
              "#7201a8"
             ],
             [
              0.3333333333333333,
              "#9c179e"
             ],
             [
              0.4444444444444444,
              "#bd3786"
             ],
             [
              0.5555555555555556,
              "#d8576b"
             ],
             [
              0.6666666666666666,
              "#ed7953"
             ],
             [
              0.7777777777777778,
              "#fb9f3a"
             ],
             [
              0.8888888888888888,
              "#fdca26"
             ],
             [
              1,
              "#f0f921"
             ]
            ],
            "type": "histogram2dcontour"
           }
          ],
          "mesh3d": [
           {
            "colorbar": {
             "outlinewidth": 0,
             "ticks": ""
            },
            "type": "mesh3d"
           }
          ],
          "parcoords": [
           {
            "line": {
             "colorbar": {
              "outlinewidth": 0,
              "ticks": ""
             }
            },
            "type": "parcoords"
           }
          ],
          "pie": [
           {
            "automargin": true,
            "type": "pie"
           }
          ],
          "scatter": [
           {
            "fillpattern": {
             "fillmode": "overlay",
             "size": 10,
             "solidity": 0.2
            },
            "type": "scatter"
           }
          ],
          "scatter3d": [
           {
            "line": {
             "colorbar": {
              "outlinewidth": 0,
              "ticks": ""
             }
            },
            "marker": {
             "colorbar": {
              "outlinewidth": 0,
              "ticks": ""
             }
            },
            "type": "scatter3d"
           }
          ],
          "scattercarpet": [
           {
            "marker": {
             "colorbar": {
              "outlinewidth": 0,
              "ticks": ""
             }
            },
            "type": "scattercarpet"
           }
          ],
          "scattergeo": [
           {
            "marker": {
             "colorbar": {
              "outlinewidth": 0,
              "ticks": ""
             }
            },
            "type": "scattergeo"
           }
          ],
          "scattergl": [
           {
            "marker": {
             "colorbar": {
              "outlinewidth": 0,
              "ticks": ""
             }
            },
            "type": "scattergl"
           }
          ],
          "scattermapbox": [
           {
            "marker": {
             "colorbar": {
              "outlinewidth": 0,
              "ticks": ""
             }
            },
            "type": "scattermapbox"
           }
          ],
          "scatterpolar": [
           {
            "marker": {
             "colorbar": {
              "outlinewidth": 0,
              "ticks": ""
             }
            },
            "type": "scatterpolar"
           }
          ],
          "scatterpolargl": [
           {
            "marker": {
             "colorbar": {
              "outlinewidth": 0,
              "ticks": ""
             }
            },
            "type": "scatterpolargl"
           }
          ],
          "scatterternary": [
           {
            "marker": {
             "colorbar": {
              "outlinewidth": 0,
              "ticks": ""
             }
            },
            "type": "scatterternary"
           }
          ],
          "surface": [
           {
            "colorbar": {
             "outlinewidth": 0,
             "ticks": ""
            },
            "colorscale": [
             [
              0,
              "#0d0887"
             ],
             [
              0.1111111111111111,
              "#46039f"
             ],
             [
              0.2222222222222222,
              "#7201a8"
             ],
             [
              0.3333333333333333,
              "#9c179e"
             ],
             [
              0.4444444444444444,
              "#bd3786"
             ],
             [
              0.5555555555555556,
              "#d8576b"
             ],
             [
              0.6666666666666666,
              "#ed7953"
             ],
             [
              0.7777777777777778,
              "#fb9f3a"
             ],
             [
              0.8888888888888888,
              "#fdca26"
             ],
             [
              1,
              "#f0f921"
             ]
            ],
            "type": "surface"
           }
          ],
          "table": [
           {
            "cells": {
             "fill": {
              "color": "#EBF0F8"
             },
             "line": {
              "color": "white"
             }
            },
            "header": {
             "fill": {
              "color": "#C8D4E3"
             },
             "line": {
              "color": "white"
             }
            },
            "type": "table"
           }
          ]
         },
         "layout": {
          "annotationdefaults": {
           "arrowcolor": "#2a3f5f",
           "arrowhead": 0,
           "arrowwidth": 1
          },
          "autotypenumbers": "strict",
          "coloraxis": {
           "colorbar": {
            "outlinewidth": 0,
            "ticks": ""
           }
          },
          "colorscale": {
           "diverging": [
            [
             0,
             "#8e0152"
            ],
            [
             0.1,
             "#c51b7d"
            ],
            [
             0.2,
             "#de77ae"
            ],
            [
             0.3,
             "#f1b6da"
            ],
            [
             0.4,
             "#fde0ef"
            ],
            [
             0.5,
             "#f7f7f7"
            ],
            [
             0.6,
             "#e6f5d0"
            ],
            [
             0.7,
             "#b8e186"
            ],
            [
             0.8,
             "#7fbc41"
            ],
            [
             0.9,
             "#4d9221"
            ],
            [
             1,
             "#276419"
            ]
           ],
           "sequential": [
            [
             0,
             "#0d0887"
            ],
            [
             0.1111111111111111,
             "#46039f"
            ],
            [
             0.2222222222222222,
             "#7201a8"
            ],
            [
             0.3333333333333333,
             "#9c179e"
            ],
            [
             0.4444444444444444,
             "#bd3786"
            ],
            [
             0.5555555555555556,
             "#d8576b"
            ],
            [
             0.6666666666666666,
             "#ed7953"
            ],
            [
             0.7777777777777778,
             "#fb9f3a"
            ],
            [
             0.8888888888888888,
             "#fdca26"
            ],
            [
             1,
             "#f0f921"
            ]
           ],
           "sequentialminus": [
            [
             0,
             "#0d0887"
            ],
            [
             0.1111111111111111,
             "#46039f"
            ],
            [
             0.2222222222222222,
             "#7201a8"
            ],
            [
             0.3333333333333333,
             "#9c179e"
            ],
            [
             0.4444444444444444,
             "#bd3786"
            ],
            [
             0.5555555555555556,
             "#d8576b"
            ],
            [
             0.6666666666666666,
             "#ed7953"
            ],
            [
             0.7777777777777778,
             "#fb9f3a"
            ],
            [
             0.8888888888888888,
             "#fdca26"
            ],
            [
             1,
             "#f0f921"
            ]
           ]
          },
          "colorway": [
           "#636efa",
           "#EF553B",
           "#00cc96",
           "#ab63fa",
           "#FFA15A",
           "#19d3f3",
           "#FF6692",
           "#B6E880",
           "#FF97FF",
           "#FECB52"
          ],
          "font": {
           "color": "#2a3f5f"
          },
          "geo": {
           "bgcolor": "white",
           "lakecolor": "white",
           "landcolor": "#E5ECF6",
           "showlakes": true,
           "showland": true,
           "subunitcolor": "white"
          },
          "hoverlabel": {
           "align": "left"
          },
          "hovermode": "closest",
          "mapbox": {
           "style": "light"
          },
          "paper_bgcolor": "white",
          "plot_bgcolor": "#E5ECF6",
          "polar": {
           "angularaxis": {
            "gridcolor": "white",
            "linecolor": "white",
            "ticks": ""
           },
           "bgcolor": "#E5ECF6",
           "radialaxis": {
            "gridcolor": "white",
            "linecolor": "white",
            "ticks": ""
           }
          },
          "scene": {
           "xaxis": {
            "backgroundcolor": "#E5ECF6",
            "gridcolor": "white",
            "gridwidth": 2,
            "linecolor": "white",
            "showbackground": true,
            "ticks": "",
            "zerolinecolor": "white"
           },
           "yaxis": {
            "backgroundcolor": "#E5ECF6",
            "gridcolor": "white",
            "gridwidth": 2,
            "linecolor": "white",
            "showbackground": true,
            "ticks": "",
            "zerolinecolor": "white"
           },
           "zaxis": {
            "backgroundcolor": "#E5ECF6",
            "gridcolor": "white",
            "gridwidth": 2,
            "linecolor": "white",
            "showbackground": true,
            "ticks": "",
            "zerolinecolor": "white"
           }
          },
          "shapedefaults": {
           "line": {
            "color": "#2a3f5f"
           }
          },
          "ternary": {
           "aaxis": {
            "gridcolor": "white",
            "linecolor": "white",
            "ticks": ""
           },
           "baxis": {
            "gridcolor": "white",
            "linecolor": "white",
            "ticks": ""
           },
           "bgcolor": "#E5ECF6",
           "caxis": {
            "gridcolor": "white",
            "linecolor": "white",
            "ticks": ""
           }
          },
          "title": {
           "x": 0.05
          },
          "xaxis": {
           "automargin": true,
           "gridcolor": "white",
           "linecolor": "white",
           "ticks": "",
           "title": {
            "standoff": 15
           },
           "zerolinecolor": "white",
           "zerolinewidth": 2
          },
          "yaxis": {
           "automargin": true,
           "gridcolor": "white",
           "linecolor": "white",
           "ticks": "",
           "title": {
            "standoff": 15
           },
           "zerolinecolor": "white",
           "zerolinewidth": 2
          }
         }
        },
        "title": {
         "font": {
          "size": 24
         },
         "text": "H Mart - OLD DENTON RD, CARROLLTON, TX"
        },
        "width": 2400,
        "xaxis": {
         "anchor": "y",
         "domain": [
          0.54,
          1
         ],
         "title": {
          "text": "Week #"
         }
        },
        "yaxis": {
         "anchor": "x",
         "domain": [
          0,
          0.49
         ],
         "title": {
          "text": "% of Visitors"
         }
        }
       }
      }
     },
     "metadata": {},
     "output_type": "display_data"
    },
    {
     "data": {
      "application/vnd.plotly.v1+json": {
       "config": {
        "plotlyServerURL": "https://plot.ly"
       },
       "data": [
        {
         "hoverinfo": "text",
         "hovertext": [
          "H Mart - ALTON PKWY, IRVINE, CA"
         ],
         "lat": [
          33.683712
         ],
         "lon": [
          -117.813829
         ],
         "marker": {
          "color": "blue",
          "opacity": 0.7,
          "size": 20
         },
         "mode": "markers",
         "showlegend": false,
         "subplot": "mapbox",
         "type": "scattermapbox"
        },
        {
         "hoverinfo": "text",
         "hovertext": [
          "H Mart / 2600 Alton Pkwy, Irvine",
          "Trader Joe's / 14443 Culver Dr, Irvine",
          "Mitsuwa Marketplace / 665 Paularino Ave, Costa Mesa",
          "Zion Market / 4800 Irvine Blvd, Irvine",
          "H Mart / 3931 Irvine Blvd, Irvine",
          "Zion Market / 5331 University Dr, Irvine",
          "Albertsons / 4541 Campus Dr, Irvine",
          "Ralphs / 17605 Harvard Ave, Irvine",
          "Mitsuwa Marketplace / 14230 Culver Dr, Irvine",
          "99 Ranch Market / 15333 Culver Dr Suite #800, Irvine"
         ],
         "lat": [
          33.68924799623188,
          33.70612530052518,
          33.681408748229494,
          33.71227358531852,
          33.7242,
          33.6597288174415,
          33.650152536110596,
          33.67711962443683,
          33.7067085466701,
          33.69640205732516
         ],
         "lon": [
          -117.83445559484868,
          -117.78847296125753,
          -117.88405755534926,
          -117.76074835492228,
          -117.7723186,
          -117.80301876607042,
          -117.8313574159119,
          -117.833161430083,
          -117.7833147872363,
          -117.79839429160954
         ],
         "marker": {
          "color": [
           9.4,
           8.4,
           8.2,
           8.1,
           7.8,
           7.6,
           6.9,
           6.9,
           6.8,
           6.5
          ],
          "colorbar": {
           "title": {
            "text": "% of Visitors"
           },
           "x": 0.02
          },
          "colorscale": [
           [
            0,
            "orange"
           ],
           [
            1,
            "red"
           ]
          ],
          "opacity": 0.7,
          "size": [
           47,
           42,
           41,
           40.5,
           39,
           38,
           34.5,
           34.5,
           34,
           32.5
          ]
         },
         "mode": "markers+text",
         "name": "",
         "showlegend": false,
         "subplot": "mapbox",
         "text": [
          "1",
          "2",
          "3",
          "4",
          "5",
          "6",
          "7",
          "7",
          "9",
          "10"
         ],
         "type": "scattermapbox"
        },
        {
         "cells": {
          "font": {
           "color": [
            "darkslategray",
            "darkslategray",
            "darkslategray",
            "darkslategray",
            [
             "green",
             "green",
             "red",
             "red",
             "green",
             "red",
             "green",
             "green",
             "red",
             "red"
            ],
            [
             "red",
             "green",
             "green",
             "red",
             "green",
             "green",
             "green",
             "green",
             "green",
             "red"
            ]
           ]
          },
          "height": 30,
          "values": [
           [
            1,
            2,
            3,
            4,
            5,
            6,
            7,
            7,
            9,
            10
           ],
           [
            "H Mart / 2600 Alton Pkwy, Irvine",
            "Trader Joe's / 14443 Culver Dr, Irvine",
            "Mitsuwa Marketplace / 665 Paularino Ave, Costa Mesa",
            "Zion Market / 4800 Irvine Blvd, Irvine",
            "H Mart / 3931 Irvine Blvd, Irvine",
            "Zion Market / 5331 University Dr, Irvine",
            "Albertsons / 4541 Campus Dr, Irvine",
            "Ralphs / 17605 Harvard Ave, Irvine",
            "Mitsuwa Marketplace / 14230 Culver Dr, Irvine",
            "99 Ranch Market / 15333 Culver Dr Suite #800, Irvine"
           ],
           [
            "1.2",
            "2.1",
            "4",
            "3.6",
            "3.7",
            "1.8",
            "2.5",
            "1.2",
            "2.4",
            "1.2"
           ],
           [
            9.4,
            8.4,
            8.2,
            8.1,
            7.8,
            7.6,
            6.9,
            6.9,
            6.8,
            6.5
           ],
           [
            0.1,
            1.5,
            -0.6,
            -0.2,
            7.8,
            -0.7,
            1.7,
            0.5,
            -0.4,
            -3
           ],
           [
            -4.9,
            1.2,
            2.1,
            -7.2,
            7.8,
            0.2,
            3.9,
            2.3,
            1.1,
            -3.2
           ]
          ]
         },
         "columnwidth": [
          10,
          60,
          10,
          10,
          10,
          10
         ],
         "domain": {
          "x": [
           0.54,
           1
          ],
          "y": [
           0.51,
           1
          ]
         },
         "header": {
          "font": {
           "size": 16
          },
          "values": [
           "Rank",
           "Name/ Address",
           "Distance (Miles)",
           "% of Visitors",
           "Last Month",
           "Last Year"
          ]
         },
         "type": "table"
        },
        {
         "hoverinfo": "text",
         "hovertext": [
          "1.9",
          "3.5999999999999996",
          "3.3000000000000003",
          "3.6999999999999997",
          "3.2"
         ],
         "name": "H Mart/ 2600 Alton Pkwy",
         "stackgroup": "one",
         "type": "scatter",
         "x": [
          "W1",
          "W2",
          "W3",
          "W4",
          "W5"
         ],
         "xaxis": "x",
         "y": [
          1.9,
          3.5999999999999996,
          3.3000000000000003,
          3.6999999999999997,
          3.2
         ],
         "yaxis": "y"
        },
        {
         "hoverinfo": "text",
         "hovertext": [
          "2.4",
          "3.2",
          "3.0",
          "2.8000000000000003",
          "2.3"
         ],
         "name": "Mitsuwa Marketplace/ 665 Paularino Ave",
         "stackgroup": "one",
         "type": "scatter",
         "x": [
          "W1",
          "W2",
          "W3",
          "W4",
          "W5"
         ],
         "xaxis": "x",
         "y": [
          2.4,
          3.2,
          3,
          2.8000000000000003,
          2.3
         ],
         "yaxis": "y"
        },
        {
         "hoverinfo": "text",
         "hovertext": [
          "2.9000000000000004",
          "2.8000000000000003",
          "2.3",
          "3.0",
          "2.5"
         ],
         "name": "Zion Market/ 4800 Irvine Blvd",
         "stackgroup": "one",
         "type": "scatter",
         "x": [
          "W1",
          "W2",
          "W3",
          "W4",
          "W5"
         ],
         "xaxis": "x",
         "y": [
          2.9000000000000004,
          2.8000000000000003,
          2.3,
          3,
          2.5
         ],
         "yaxis": "y"
        },
        {
         "hoverinfo": "text",
         "hovertext": [
          "2.4",
          "2.5",
          "2.1",
          "3.2",
          "2.4"
         ],
         "name": "Mitsuwa Marketplace/ 14230 Culver Dr",
         "stackgroup": "one",
         "type": "scatter",
         "x": [
          "W1",
          "W2",
          "W3",
          "W4",
          "W5"
         ],
         "xaxis": "x",
         "y": [
          2.4,
          2.5,
          2.1,
          3.2,
          2.4
         ],
         "yaxis": "y"
        },
        {
         "hoverinfo": "text",
         "hovertext": [
          "3.4000000000000004",
          "4.7",
          "2.8000000000000003",
          "3.3000000000000003",
          "3.4000000000000004"
         ],
         "name": "99 Ranch Market/ 15333 Culver Dr Suite #800",
         "stackgroup": "one",
         "type": "scatter",
         "x": [
          "W1",
          "W2",
          "W3",
          "W4",
          "W5"
         ],
         "xaxis": "x",
         "y": [
          3.4000000000000004,
          4.7,
          2.8000000000000003,
          3.3000000000000003,
          3.4000000000000004
         ],
         "yaxis": "y"
        }
       ],
       "layout": {
        "annotations": [
         {
          "font": {
           "size": 18
          },
          "showarrow": false,
          "text": "Competitor List",
          "x": 0.77,
          "xanchor": "center",
          "xref": "paper",
          "y": 1,
          "yanchor": "bottom",
          "yref": "paper",
          "yshift": 20
         },
         {
          "font": {
           "size": 18
          },
          "showarrow": false,
          "text": "Weekly Trend",
          "x": 0.77,
          "xanchor": "center",
          "xref": "paper",
          "y": 0.49,
          "yanchor": "bottom",
          "yref": "paper",
          "yshift": 20
         }
        ],
        "height": 1000,
        "legend": {
         "y": 0.4
        },
        "mapbox": {
         "accesstoken": "pk.eyJ1IjoianVuZ3Nvb2xlZTEyMyIsImEiOiJjbG5pemliaWcwdDc4MmxtanlsazFjNnphIn0.DuoiXA_AYMRMk1ZQjzS6ZA",
         "center": {
          "lat": 33.683712,
          "lon": -117.813829
         },
         "domain": {
          "x": [
           0,
           0.46
          ],
          "y": [
           0,
           1
          ]
         },
         "style": "light",
         "zoom": 12
        },
        "margin": {
         "b": 10,
         "l": 20,
         "r": 20,
         "t": 100
        },
        "template": {
         "data": {
          "bar": [
           {
            "error_x": {
             "color": "#2a3f5f"
            },
            "error_y": {
             "color": "#2a3f5f"
            },
            "marker": {
             "line": {
              "color": "#E5ECF6",
              "width": 0.5
             },
             "pattern": {
              "fillmode": "overlay",
              "size": 10,
              "solidity": 0.2
             }
            },
            "type": "bar"
           }
          ],
          "barpolar": [
           {
            "marker": {
             "line": {
              "color": "#E5ECF6",
              "width": 0.5
             },
             "pattern": {
              "fillmode": "overlay",
              "size": 10,
              "solidity": 0.2
             }
            },
            "type": "barpolar"
           }
          ],
          "carpet": [
           {
            "aaxis": {
             "endlinecolor": "#2a3f5f",
             "gridcolor": "white",
             "linecolor": "white",
             "minorgridcolor": "white",
             "startlinecolor": "#2a3f5f"
            },
            "baxis": {
             "endlinecolor": "#2a3f5f",
             "gridcolor": "white",
             "linecolor": "white",
             "minorgridcolor": "white",
             "startlinecolor": "#2a3f5f"
            },
            "type": "carpet"
           }
          ],
          "choropleth": [
           {
            "colorbar": {
             "outlinewidth": 0,
             "ticks": ""
            },
            "type": "choropleth"
           }
          ],
          "contour": [
           {
            "colorbar": {
             "outlinewidth": 0,
             "ticks": ""
            },
            "colorscale": [
             [
              0,
              "#0d0887"
             ],
             [
              0.1111111111111111,
              "#46039f"
             ],
             [
              0.2222222222222222,
              "#7201a8"
             ],
             [
              0.3333333333333333,
              "#9c179e"
             ],
             [
              0.4444444444444444,
              "#bd3786"
             ],
             [
              0.5555555555555556,
              "#d8576b"
             ],
             [
              0.6666666666666666,
              "#ed7953"
             ],
             [
              0.7777777777777778,
              "#fb9f3a"
             ],
             [
              0.8888888888888888,
              "#fdca26"
             ],
             [
              1,
              "#f0f921"
             ]
            ],
            "type": "contour"
           }
          ],
          "contourcarpet": [
           {
            "colorbar": {
             "outlinewidth": 0,
             "ticks": ""
            },
            "type": "contourcarpet"
           }
          ],
          "heatmap": [
           {
            "colorbar": {
             "outlinewidth": 0,
             "ticks": ""
            },
            "colorscale": [
             [
              0,
              "#0d0887"
             ],
             [
              0.1111111111111111,
              "#46039f"
             ],
             [
              0.2222222222222222,
              "#7201a8"
             ],
             [
              0.3333333333333333,
              "#9c179e"
             ],
             [
              0.4444444444444444,
              "#bd3786"
             ],
             [
              0.5555555555555556,
              "#d8576b"
             ],
             [
              0.6666666666666666,
              "#ed7953"
             ],
             [
              0.7777777777777778,
              "#fb9f3a"
             ],
             [
              0.8888888888888888,
              "#fdca26"
             ],
             [
              1,
              "#f0f921"
             ]
            ],
            "type": "heatmap"
           }
          ],
          "heatmapgl": [
           {
            "colorbar": {
             "outlinewidth": 0,
             "ticks": ""
            },
            "colorscale": [
             [
              0,
              "#0d0887"
             ],
             [
              0.1111111111111111,
              "#46039f"
             ],
             [
              0.2222222222222222,
              "#7201a8"
             ],
             [
              0.3333333333333333,
              "#9c179e"
             ],
             [
              0.4444444444444444,
              "#bd3786"
             ],
             [
              0.5555555555555556,
              "#d8576b"
             ],
             [
              0.6666666666666666,
              "#ed7953"
             ],
             [
              0.7777777777777778,
              "#fb9f3a"
             ],
             [
              0.8888888888888888,
              "#fdca26"
             ],
             [
              1,
              "#f0f921"
             ]
            ],
            "type": "heatmapgl"
           }
          ],
          "histogram": [
           {
            "marker": {
             "pattern": {
              "fillmode": "overlay",
              "size": 10,
              "solidity": 0.2
             }
            },
            "type": "histogram"
           }
          ],
          "histogram2d": [
           {
            "colorbar": {
             "outlinewidth": 0,
             "ticks": ""
            },
            "colorscale": [
             [
              0,
              "#0d0887"
             ],
             [
              0.1111111111111111,
              "#46039f"
             ],
             [
              0.2222222222222222,
              "#7201a8"
             ],
             [
              0.3333333333333333,
              "#9c179e"
             ],
             [
              0.4444444444444444,
              "#bd3786"
             ],
             [
              0.5555555555555556,
              "#d8576b"
             ],
             [
              0.6666666666666666,
              "#ed7953"
             ],
             [
              0.7777777777777778,
              "#fb9f3a"
             ],
             [
              0.8888888888888888,
              "#fdca26"
             ],
             [
              1,
              "#f0f921"
             ]
            ],
            "type": "histogram2d"
           }
          ],
          "histogram2dcontour": [
           {
            "colorbar": {
             "outlinewidth": 0,
             "ticks": ""
            },
            "colorscale": [
             [
              0,
              "#0d0887"
             ],
             [
              0.1111111111111111,
              "#46039f"
             ],
             [
              0.2222222222222222,
              "#7201a8"
             ],
             [
              0.3333333333333333,
              "#9c179e"
             ],
             [
              0.4444444444444444,
              "#bd3786"
             ],
             [
              0.5555555555555556,
              "#d8576b"
             ],
             [
              0.6666666666666666,
              "#ed7953"
             ],
             [
              0.7777777777777778,
              "#fb9f3a"
             ],
             [
              0.8888888888888888,
              "#fdca26"
             ],
             [
              1,
              "#f0f921"
             ]
            ],
            "type": "histogram2dcontour"
           }
          ],
          "mesh3d": [
           {
            "colorbar": {
             "outlinewidth": 0,
             "ticks": ""
            },
            "type": "mesh3d"
           }
          ],
          "parcoords": [
           {
            "line": {
             "colorbar": {
              "outlinewidth": 0,
              "ticks": ""
             }
            },
            "type": "parcoords"
           }
          ],
          "pie": [
           {
            "automargin": true,
            "type": "pie"
           }
          ],
          "scatter": [
           {
            "fillpattern": {
             "fillmode": "overlay",
             "size": 10,
             "solidity": 0.2
            },
            "type": "scatter"
           }
          ],
          "scatter3d": [
           {
            "line": {
             "colorbar": {
              "outlinewidth": 0,
              "ticks": ""
             }
            },
            "marker": {
             "colorbar": {
              "outlinewidth": 0,
              "ticks": ""
             }
            },
            "type": "scatter3d"
           }
          ],
          "scattercarpet": [
           {
            "marker": {
             "colorbar": {
              "outlinewidth": 0,
              "ticks": ""
             }
            },
            "type": "scattercarpet"
           }
          ],
          "scattergeo": [
           {
            "marker": {
             "colorbar": {
              "outlinewidth": 0,
              "ticks": ""
             }
            },
            "type": "scattergeo"
           }
          ],
          "scattergl": [
           {
            "marker": {
             "colorbar": {
              "outlinewidth": 0,
              "ticks": ""
             }
            },
            "type": "scattergl"
           }
          ],
          "scattermapbox": [
           {
            "marker": {
             "colorbar": {
              "outlinewidth": 0,
              "ticks": ""
             }
            },
            "type": "scattermapbox"
           }
          ],
          "scatterpolar": [
           {
            "marker": {
             "colorbar": {
              "outlinewidth": 0,
              "ticks": ""
             }
            },
            "type": "scatterpolar"
           }
          ],
          "scatterpolargl": [
           {
            "marker": {
             "colorbar": {
              "outlinewidth": 0,
              "ticks": ""
             }
            },
            "type": "scatterpolargl"
           }
          ],
          "scatterternary": [
           {
            "marker": {
             "colorbar": {
              "outlinewidth": 0,
              "ticks": ""
             }
            },
            "type": "scatterternary"
           }
          ],
          "surface": [
           {
            "colorbar": {
             "outlinewidth": 0,
             "ticks": ""
            },
            "colorscale": [
             [
              0,
              "#0d0887"
             ],
             [
              0.1111111111111111,
              "#46039f"
             ],
             [
              0.2222222222222222,
              "#7201a8"
             ],
             [
              0.3333333333333333,
              "#9c179e"
             ],
             [
              0.4444444444444444,
              "#bd3786"
             ],
             [
              0.5555555555555556,
              "#d8576b"
             ],
             [
              0.6666666666666666,
              "#ed7953"
             ],
             [
              0.7777777777777778,
              "#fb9f3a"
             ],
             [
              0.8888888888888888,
              "#fdca26"
             ],
             [
              1,
              "#f0f921"
             ]
            ],
            "type": "surface"
           }
          ],
          "table": [
           {
            "cells": {
             "fill": {
              "color": "#EBF0F8"
             },
             "line": {
              "color": "white"
             }
            },
            "header": {
             "fill": {
              "color": "#C8D4E3"
             },
             "line": {
              "color": "white"
             }
            },
            "type": "table"
           }
          ]
         },
         "layout": {
          "annotationdefaults": {
           "arrowcolor": "#2a3f5f",
           "arrowhead": 0,
           "arrowwidth": 1
          },
          "autotypenumbers": "strict",
          "coloraxis": {
           "colorbar": {
            "outlinewidth": 0,
            "ticks": ""
           }
          },
          "colorscale": {
           "diverging": [
            [
             0,
             "#8e0152"
            ],
            [
             0.1,
             "#c51b7d"
            ],
            [
             0.2,
             "#de77ae"
            ],
            [
             0.3,
             "#f1b6da"
            ],
            [
             0.4,
             "#fde0ef"
            ],
            [
             0.5,
             "#f7f7f7"
            ],
            [
             0.6,
             "#e6f5d0"
            ],
            [
             0.7,
             "#b8e186"
            ],
            [
             0.8,
             "#7fbc41"
            ],
            [
             0.9,
             "#4d9221"
            ],
            [
             1,
             "#276419"
            ]
           ],
           "sequential": [
            [
             0,
             "#0d0887"
            ],
            [
             0.1111111111111111,
             "#46039f"
            ],
            [
             0.2222222222222222,
             "#7201a8"
            ],
            [
             0.3333333333333333,
             "#9c179e"
            ],
            [
             0.4444444444444444,
             "#bd3786"
            ],
            [
             0.5555555555555556,
             "#d8576b"
            ],
            [
             0.6666666666666666,
             "#ed7953"
            ],
            [
             0.7777777777777778,
             "#fb9f3a"
            ],
            [
             0.8888888888888888,
             "#fdca26"
            ],
            [
             1,
             "#f0f921"
            ]
           ],
           "sequentialminus": [
            [
             0,
             "#0d0887"
            ],
            [
             0.1111111111111111,
             "#46039f"
            ],
            [
             0.2222222222222222,
             "#7201a8"
            ],
            [
             0.3333333333333333,
             "#9c179e"
            ],
            [
             0.4444444444444444,
             "#bd3786"
            ],
            [
             0.5555555555555556,
             "#d8576b"
            ],
            [
             0.6666666666666666,
             "#ed7953"
            ],
            [
             0.7777777777777778,
             "#fb9f3a"
            ],
            [
             0.8888888888888888,
             "#fdca26"
            ],
            [
             1,
             "#f0f921"
            ]
           ]
          },
          "colorway": [
           "#636efa",
           "#EF553B",
           "#00cc96",
           "#ab63fa",
           "#FFA15A",
           "#19d3f3",
           "#FF6692",
           "#B6E880",
           "#FF97FF",
           "#FECB52"
          ],
          "font": {
           "color": "#2a3f5f"
          },
          "geo": {
           "bgcolor": "white",
           "lakecolor": "white",
           "landcolor": "#E5ECF6",
           "showlakes": true,
           "showland": true,
           "subunitcolor": "white"
          },
          "hoverlabel": {
           "align": "left"
          },
          "hovermode": "closest",
          "mapbox": {
           "style": "light"
          },
          "paper_bgcolor": "white",
          "plot_bgcolor": "#E5ECF6",
          "polar": {
           "angularaxis": {
            "gridcolor": "white",
            "linecolor": "white",
            "ticks": ""
           },
           "bgcolor": "#E5ECF6",
           "radialaxis": {
            "gridcolor": "white",
            "linecolor": "white",
            "ticks": ""
           }
          },
          "scene": {
           "xaxis": {
            "backgroundcolor": "#E5ECF6",
            "gridcolor": "white",
            "gridwidth": 2,
            "linecolor": "white",
            "showbackground": true,
            "ticks": "",
            "zerolinecolor": "white"
           },
           "yaxis": {
            "backgroundcolor": "#E5ECF6",
            "gridcolor": "white",
            "gridwidth": 2,
            "linecolor": "white",
            "showbackground": true,
            "ticks": "",
            "zerolinecolor": "white"
           },
           "zaxis": {
            "backgroundcolor": "#E5ECF6",
            "gridcolor": "white",
            "gridwidth": 2,
            "linecolor": "white",
            "showbackground": true,
            "ticks": "",
            "zerolinecolor": "white"
           }
          },
          "shapedefaults": {
           "line": {
            "color": "#2a3f5f"
           }
          },
          "ternary": {
           "aaxis": {
            "gridcolor": "white",
            "linecolor": "white",
            "ticks": ""
           },
           "baxis": {
            "gridcolor": "white",
            "linecolor": "white",
            "ticks": ""
           },
           "bgcolor": "#E5ECF6",
           "caxis": {
            "gridcolor": "white",
            "linecolor": "white",
            "ticks": ""
           }
          },
          "title": {
           "x": 0.05
          },
          "xaxis": {
           "automargin": true,
           "gridcolor": "white",
           "linecolor": "white",
           "ticks": "",
           "title": {
            "standoff": 15
           },
           "zerolinecolor": "white",
           "zerolinewidth": 2
          },
          "yaxis": {
           "automargin": true,
           "gridcolor": "white",
           "linecolor": "white",
           "ticks": "",
           "title": {
            "standoff": 15
           },
           "zerolinecolor": "white",
           "zerolinewidth": 2
          }
         }
        },
        "title": {
         "font": {
          "size": 24
         },
         "text": "H Mart - ALTON PKWY, IRVINE, CA"
        },
        "width": 2400,
        "xaxis": {
         "anchor": "y",
         "domain": [
          0.54,
          1
         ],
         "title": {
          "text": "Week #"
         }
        },
        "yaxis": {
         "anchor": "x",
         "domain": [
          0,
          0.49
         ],
         "title": {
          "text": "% of Visitors"
         }
        }
       }
      }
     },
     "metadata": {},
     "output_type": "display_data"
    }
   ],
   "source": [
    "map_table(temp_tp_lst, temp_store_lst)"
   ]
  }
 ],
 "metadata": {
  "kernelspec": {
   "display_name": "Python 3",
   "language": "python",
   "name": "python3"
  },
  "language_info": {
   "codemirror_mode": {
    "name": "ipython",
    "version": 3
   },
   "file_extension": ".py",
   "mimetype": "text/x-python",
   "name": "python",
   "nbconvert_exporter": "python",
   "pygments_lexer": "ipython3",
   "version": "3.11.5"
  },
  "orig_nbformat": 4
 },
 "nbformat": 4,
 "nbformat_minor": 2
}
